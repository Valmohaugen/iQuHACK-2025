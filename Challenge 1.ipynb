{
 "cells": [
  {
   "cell_type": "code",
   "execution_count": 1,
   "metadata": {},
   "outputs": [],
   "source": [
    "import dynamiqs as dq\n",
    "from functools import reduce\n",
    "import jax\n",
    "import jax.numpy as jnp\n",
    "from jax.example_libraries.optimizers import adam\n",
    "\n",
    "import matplotlib.pyplot as plt\n",
    "from matplotlib.animation import FuncAnimation, PillowWriter\n",
    "from IPython.display import HTML, display"
   ]
  },
  {
   "cell_type": "code",
   "execution_count": null,
   "metadata": {},
   "outputs": [],
   "source": [
    "## Task 1.1 - Getting started with 'dynamiqs'\n",
    "# Hilbert space truncations\n",
    "na = 20  # Memory mode a - encodes the logical cat qubit\n",
    "nb = 5   # Buffer mode b - mediates 2-photon dissipation to stabilize the cat state\n",
    "\n",
    "# Operators in the composite Hilbert space\n",
    "a = dq.tensor(dq.destroy(na), dq.eye(nb))     # Memory mode a annihilation operator\n",
    "adag = a.dag()                                # Memory mode a creation operator\n",
    "b = dq.tensor(dq.eye(na), dq.destroy(nb))     # Buffer mode b annihilation operator\n",
    "bdag = b.dag()                                # Buffer mode b creation operator\n",
    "\n",
    "# More parameters\n",
    "g_2 = 1.0                          # 2-photon exchange coupling strength between the memory and buffer modes\n",
    "eps_d = -4.0                       # Coherent drive applied to the buffer mode\n",
    "kappa_b = 10 * g_2                 # Decay rate of the buffer mode\n",
    "n_a = adag @ a                     # Photon number operator for the memory mode\n",
    "T = 4                              # Time for simulation [s]\n",
    "t_save = jnp.linspace(0, T, 500)   # Time array for the master equation to return with. Used with 500 intervals\n",
    "\n",
    "# Hamiltonian construction\n",
    "H_2ph = g_2 * (adag @ adag @ b) + jnp.conjugate(g_2) * (a @ a @ bdag)   # 2-photon exchange Hamiltonian - couples the memory and buffer modes\n",
    "H_d = jnp.conjugate(eps_d) * b + eps_d * bdag                           # 1-photon drive Hamiltonian - supplies the photons so that the memory mode can end up in a cat state\n",
    "H = H_2ph + H_d                                                         # Stabilized Hamiltonian\n",
    "\n",
    "# Initial state, collapse operator, & resulting states\n",
    "psi0 = dq.tensor(dq.fock(na, 0), dq.fock(nb, 0))   # Vacuum state initialization - creates the memory and buffer modes with 0 photons each\n",
    "c_ops = [jnp.sqrt(kappa_b) * b]                    # Collapse operator on the buffer mode - 1-photon loss as a result of decay from this operator\n",
    "result = dq.mesolve(H, c_ops, psi0, t_save)        # Solves the Lindblad master equation - returns the time evolution of the density matrix for each time step   \n",
    "\n",
    "# Parity and expectation values\n",
    "terms_a = [(-1)**n * dq.fock_dm(na, n) for n in range(na)]                  # Creates Fock-state projectors with alternating signs\n",
    "parity_a_local = reduce(lambda x, y: x + y, terms_a)                        # The actual memory mode parity operator - returns +1 when number of photons is even and -1 when odd\n",
    "parity_a = dq.tensor(parity_a_local, dq.eye(nb))                            # Embeds the memory mode parity operator into the full 2-mode Hilbert space - This is basically the parity operator on the memory mode and leaves the buffer mode the same\n",
    "n_a_expect = [dq.expect(n_a, state) for state in result.states]             # Calculates the expectation value from the resulting states using the photon number operator for the memory mode\n",
    "parity_a_expect = [dq.expect(parity_a, state) for state in result.states]   # Calculates the expectation value from the resulting states using the parity operator for the memory mode\n",
    "\n",
    "# Animation plotting\n",
    "fig_w, ax_w = plt.subplots(1, 1, figsize=(7, 8)) \n",
    "def update(frame):\n",
    "    ax_w.cla()                                   # Clears the axis\n",
    "    rho_a = dq.ptrace(result.states[frame], 0)   # Partial trace over the buffer mode to extract the reduced state of the memory mode\n",
    "    dq.plot.wigner(rho_a, ax=ax_w)               # Plots the Wigner function for the reduced state above, rho_a\n",
    "    ax_w.set_title(f'Memory Mode of the Wigner Function\\nna = {na}, nb = {nb}, & Time = {t_save[frame]:.2f}')   # Sets the title of the animation\n",
    "\n",
    "ani = FuncAnimation(fig_w, update, frames=len(t_save), repeat=False)   # Creates the animation\n",
    "gif_filename = f'Task 1.1 with {na}.{nb}.gif'                          # Animation file name\n",
    "ani.save(gif_filename, writer=PillowWriter(fps=50))                    # Saves the animation to the same directory that this file is in\n",
    "plt.close(fig_w)                                                       # Closes the file in matplotlib to free up memory \n",
    "display(HTML(f'<img src=\"{gif_filename}\">'))                           # Displays the animation file\n",
    "\n",
    "# Plotting the expectation value of the photon number in the memory mode\n",
    "fig2, (ax1, ax2) = plt.subplots(2, 1, figsize=(7, 7))\n",
    "ax1.plot(t_save, n_a_expect, label=r'$\\langle n_a \\rangle$', color='blue')   # Creates the expectation value plot\n",
    "ax1.set_title('Expectation Value of the Photon Number in the Memory Mode')   # Sets the title of the plot\n",
    "ax1.set_xlabel('Time')                                                       # Sets the x label for the plot\n",
    "ax1.set_ylabel(r'$\\langle n_a \\rangle$')                                     # Sets the y label for the plot\n",
    "ax1.legend()                                                                 # Adds a legend to the plot\n",
    "ax1.grid(True)                                                               # Adds a grid to the plot\n",
    "\n",
    "# Plotting the photon number parity in the memory mode\n",
    "ax2.plot(t_save, parity_a_expect, label='Parity', color='red')   # Creates the photon number parity plot of the memory mode\n",
    "ax2.set_title('Photon Number Parity in the Memory Mode')         # Sets the title of the plot\n",
    "ax2.set_xlabel('Time')                                           # Sets the x label for the plot\n",
    "ax2.set_ylabel('Parity')                                         # Sets the y label for the plot\n",
    "ax2.legend()                                                     # Adds a legend to the plot\n",
    "ax2.grid(True)                                                   # Adds a grid to the plot\n",
    "\n",
    "plt.tight_layout()   # Adjusts spacing between plotted elements\n",
    "plt.show()           # Shows all plots"
   ]
  },
  {
   "cell_type": "code",
   "execution_count": null,
   "metadata": {},
   "outputs": [],
   "source": [
    "## Task 1.2 - Comparison with eliminated buffer mode\n",
    "# Hilbert space truncations\n",
    "na = 20   # Memory mode a - encodes the logical cat qubit\n",
    "nb = 5    # Buffer mode b - mediates 2-photon dissipation to stabilize the cat state\n",
    "\n",
    "# More parameters\n",
    "g_2 = 1.0                          # 2-photon exchange coupling strength between the memory and buffer modes\n",
    "eps_d = -4.0                       # Coherent drive applied to the buffer mode\n",
    "T = 4                              # Time for simulation [s]\n",
    "t_save = jnp.linspace(0, T, 500)   # Time array for the master equation to return with. Used with 500 intervals\n",
    "\n",
    "# kappa_b values to test and compare with original value from Task 1.1\n",
    "kappa_b_values = jnp.array([1, 2, 3, 4, 5, 7, 10])\n",
    "\n",
    "# Plotting\n",
    "plt.figure(figsize=(10, 6))\n",
    "for kappa_b in kappa_b_values:\n",
    "    # Operators in the composite Hilbert space\n",
    "    a = dq.tensor(dq.destroy(na), dq.eye(nb))     # Memory mode a annihilation operator\n",
    "    adag = a.dag()                                # Memory mode a creation operator\n",
    "    b = dq.tensor(dq.eye(na), dq.destroy(nb))     # Buffer mode b annihilation operator\n",
    "    bdag = b.dag()                                # Buffer mode b creation operator\n",
    "    \n",
    "    # Hamiltonian construction\n",
    "    H_2ph = g_2 * (adag @ adag @ b) + jnp.conjugate(g_2) * (a @ a @ bdag)   # 2-photon exchange Hamiltonian - couples the memory and buffer modes\n",
    "    H_d = jnp.conjugate(eps_d) * b + eps_d * bdag                           # 1-photon drive Hamiltonian - supplies the photons so that the memory mode can end up in a cat state\n",
    "    H = H_2ph + H_d                                                         # Stabilized Hamiltonian - missing a Zeno gate rotation used in Task 1.2\n",
    "    \n",
    "    # Initial state, collapse operator, resulting states, & final memory mode information\n",
    "    psi0 = dq.tensor(dq.fock(na, 0), dq.fock(nb, 0))                # Vacuum state initialization - creates the memory and buffer modes with 0 photons each\n",
    "    c_ops = [jnp.sqrt(kappa_b) * b]                                 # Collapse operator on the buffer mode - 1-photon loss as a result of decay from this operator\n",
    "    result = dq.mesolve(H, c_ops, psi0, t_save)                     # Solves the Linblad master equation - returns the time evolution of the density matrix for each time step   \n",
    "    rho_a_list = [dq.ptrace(state, 0) for state in result.states]   # Get reduced states of the memory mode by discarding the buffer mode's quantum information\n",
    "\n",
    "    # Effective parameters\n",
    "    kappa_2 = 4 * abs(g_2)**2 / kappa_b      # 2-photon dissipation rate\n",
    "    alpha_sq = -eps_d / jnp.conjugate(g_2)   # Squared coherent‐state amplitude\n",
    "    alpha = jnp.sqrt(alpha_sq)               # Coherent‐state amplitude\n",
    "    \n",
    "    # Effective operators\n",
    "    a_eff = dq.destroy(na)                                                # Effective single-mode annihilation operator - acts on the memory mode in the adiabatically eliminated model\n",
    "    L_eff = jnp.sqrt(kappa_2) * (a_eff @ a_eff - alpha_sq * dq.eye(na))   # Effective memory mode collapse operator - responsible for stabilization\n",
    "    \n",
    "    # Effective system results and fidelity\n",
    "    result_eff = dq.mesolve(dq.zeros(na), [L_eff], dq.fock(na, 0), t_save)   # Solves the effective 1-mode system and returns a list of density matrices\n",
    "    fidelity = [dq.fidelity(rho_a, rho_eff)                                  # Captures how close the memory mode from the full simulation is to the 1‐mode\n",
    "                for rho_a, rho_eff in zip(rho_a_list, result_eff.states)]    # solution from the adiabatically eliminated approach at each time step\n",
    "    \n",
    "    # Plot results\n",
    "    plt.plot(t_save, fidelity, label=f'κ_b = {kappa_b}',\n",
    "             linestyle='--' if kappa_b < 10 else '-')\n",
    "\n",
    "# Plot formatting\n",
    "plt.xlabel('Time')                                        # Sets the x label for the plot\n",
    "plt.ylabel('Fidelity')                                    # Sets the y label for the plot\n",
    "plt.ylim(0, 1.1)                                          # Sets the y limits for the plot\n",
    "plt.title('Fidelity Between Full and Adiabatic Models')   # Sets the title of the plot\n",
    "plt.legend()                                              # Adds a legend to the plot\n",
    "plt.grid(True)                                            # Adds a grid to the plot\n",
    "\n",
    "plt.tight_layout()   # Adjusts spacing between plotted elements\n",
    "plt.show()           # Shows all plots"
   ]
  },
  {
   "cell_type": "code",
   "execution_count": 8,
   "metadata": {},
   "outputs": [
    {
     "name": "stderr",
     "output_type": "stream",
     "text": [
      "|██████████| 100.0% ◆ elapsed 287.92ms ◆ remaining 0.00ms  \n"
     ]
    },
    {
     "data": {
      "text/html": [
       "<img src=\"wigner_memory_mode_Zeno.gif\">"
      ],
      "text/plain": [
       "<IPython.core.display.HTML object>"
      ]
     },
     "metadata": {},
     "output_type": "display_data"
    }
   ],
   "source": [
    "## Task 1.3 - Performing a Zeno-gate\n",
    "# Hilbert space truncations\n",
    "na = 20   # Buffer mode a - encodes the logical cat qubit\n",
    "nb = 5    # Memory mode b - mediates 2-photon dissipation to stabilize the cat state\n",
    "\n",
    "# Operators in the composite Hilbert space\n",
    "a = dq.tensor(dq.destroy(na), dq.eye(nb))     # Memory mode a annihilation operator\n",
    "adag = a.dag()                                # Memory mode a creation operator\n",
    "b = dq.tensor(dq.eye(na), dq.destroy(nb))     # Buffer mode b annihilation operator\n",
    "bdag = b.dag()                                # Buffer mode b creation operator\n",
    "\n",
    "# More parameters\n",
    "g_2 = 1.0\n",
    "eps_d = -4.0\n",
    "kappa_b = 10.0\n",
    "\n",
    "# Stabilized Hamiltonian construction\n",
    "H_2ph = g_2 * (adag @ adag @ b) + jnp.conjugate(g_2) * (bdag @ a @ a) \n",
    "H_d = jnp.conjugate(eps_d) * b + eps_d * bdag\n",
    "H_stab = H_2ph + H_d\n",
    "\n",
    "# -------------------------------\n",
    "# 4. Define the Zeno gate Hamiltonian (rotation about Z)\n",
    "# -------------------------------\n",
    "# This Hamiltonian is given by:\n",
    "#   H_Z = epsilon_Z^* a^2 + epsilon_Z a†^2\n",
    "epsilon_Z = 0.2 + 0.0j   # Gate drive amplitude (adjust to set rotation speed)\n",
    "H_Z = jnp.conjugate(epsilon_Z) * (a @ a) + epsilon_Z * (adag @ adag)\n",
    "\n",
    "# -------------------------------\n",
    "# 5. Total Hamiltonian for gate simulation\n",
    "# -------------------------------\n",
    "H_total = H_stab + H_Z\n",
    "\n",
    "# -------------------------------\n",
    "# 6. Define the initial state: even cat state in the memory mode\n",
    "# -------------------------------\n",
    "# Define α = 2 (so that α² = 4)\n",
    "alpha = 2.0\n",
    "# Construct coherent states |α> and |−α>\n",
    "coherent_plus = dq.coherent(na, alpha)\n",
    "coherent_minus = dq.coherent(na, -alpha)\n",
    "# The even cat state (logical |+⟩) is proportional to |α> + |−α>\n",
    "cat_plus = (coherent_plus + coherent_minus).unit()\n",
    "# Embed the memory state into the full composite space (buffer in vacuum)\n",
    "psi0 = dq.tensor(cat_plus, dq.fock(nb, 0))\n",
    "\n",
    "# -------------------------------\n",
    "# 7. Define time evolution parameters for the gate simulation\n",
    "# -------------------------------\n",
    "# Let T_gate be the time for a π rotation (half a full rotation period)\n",
    "T_gate = 5.0   # Adjust T_gate so that a π rotation (|+⟩ -> |−⟩) is achieved.\n",
    "t_save = jnp.linspace(0, T_gate, 500)\n",
    "\n",
    "# -------------------------------\n",
    "# 8. Define collapse operator (buffer decay only, as in Task 1.1)\n",
    "# -------------------------------\n",
    "c_ops = [jnp.sqrt(kappa_b) * b]\n",
    "\n",
    "# -------------------------------\n",
    "# 9. Solve the Lindblad master equation with H_total\n",
    "# -------------------------------\n",
    "res = dq.mesolve(H_total, c_ops, psi0, t_save)\n",
    "\n",
    "# -------------------------------\n",
    "# 10. Create the GIF: Compute the Wigner function of the memory mode (by tracing out the buffer)\n",
    "# -------------------------------\n",
    "fig_w, ax_w = plt.subplots(1, 1, figsize=(6, 6))\n",
    "def update(frame):\n",
    "    ax_w.cla()  # Clear previous frame\n",
    "    # Extract the reduced density matrix for the memory mode:\n",
    "    rho_a = dq.ptrace(res.states[frame], 0)\n",
    "    # Plot the Wigner function for the memory mode:\n",
    "    dq.plot.wigner(rho_a, ax=ax_w)\n",
    "    ax_w.set_title(f\"Memory Mode Wigner Function\\nTime = {t_save[frame]:.2f}\")\n",
    "\n",
    "ani = FuncAnimation(fig_w, update, frames=len(t_save), repeat=False)\n",
    "gif_filename = 'wigner_memory_mode_Zeno.gif'\n",
    "ani.save(gif_filename, writer=PillowWriter(fps=50))\n",
    "\n",
    "plt.close(fig_w)\n",
    "display(HTML(f'<img src=\"{gif_filename}\">'))"
   ]
  },
  {
   "cell_type": "code",
   "execution_count": 9,
   "metadata": {},
   "outputs": [
    {
     "name": "stderr",
     "output_type": "stream",
     "text": [
      "|██████████| 100.0% ◆ elapsed 9.23ms ◆ remaining 0.00ms\n",
      "|██████████| 100.0% ◆ elapsed 12.28ms ◆ remaining 0.00ms\n",
      "|██████████| 100.0% ◆ elapsed 15.34ms ◆ remaining 0.00ms\n",
      "|██████████| 100.0% ◆ elapsed 15.57ms ◆ remaining 0.00ms\n",
      "|██████████| 100.0% ◆ elapsed 15.41ms ◆ remaining 0.00ms\n",
      "|██████████| 100.0% ◆ elapsed 16.54ms ◆ remaining 0.00ms\n",
      "|██████████| 100.0% ◆ elapsed 20.34ms ◆ remaining 0.00ms\n",
      "|██████████| 100.0% ◆ elapsed 25.16ms ◆ remaining 0.00ms\n",
      "|██████████| 100.0% ◆ elapsed 16.25ms ◆ remaining 0.00ms\n",
      "|██████████| 100.0% ◆ elapsed 18.39ms ◆ remaining 0.00ms\n"
     ]
    },
    {
     "name": "stdout",
     "output_type": "stream",
     "text": [
      "Initial loss = 0.019729078\n"
     ]
    },
    {
     "name": "stderr",
     "output_type": "stream",
     "text": [
      "|          |   0.0% ◆ elapsed 0.00ms ◆ remaining ?\n",
      "\u001b[A\n",
      "\n",
      "|██████████| 100.0% ◆ elapsed 35.75ms ◆ remaining 0.00ms\n",
      "|██████████| 100.0% ◆ elapsed 52.21ms ◆ remaining 0.00ms\n",
      "|██████████| 100.0% ◆ elapsed 27.53ms ◆ remaining 0.00ms\n",
      "|██████████| 100.0% ◆ elapsed 23.04ms ◆ remaining 0.00ms\n",
      "|██████████| 100.0% ◆ elapsed 164.63ms ◆ remaining 0.00ms\n",
      "\n",
      "\u001b[A\n",
      "|██████████| 100.0% ◆ elapsed 178.05ms ◆ remaining 0.00ms\n",
      "\n",
      "\n",
      "\u001b[A\u001b[A\n",
      "\n",
      "|██████████| 100.0% ◆ elapsed 191.17ms ◆ remaining 0.00ms\n",
      "|██████████| 100.0% ◆ elapsed 16.27ms ◆ remaining 0.00ms\n",
      "|██████████| 100.0% ◆ elapsed 16.28ms ◆ remaining 0.00ms\n",
      "|██████████| 100.0% ◆ elapsed 15.91ms ◆ remaining 0.00ms\n"
     ]
    },
    {
     "name": "stdout",
     "output_type": "stream",
     "text": [
      "Iteration:   0 | Loss: 0.0197\n"
     ]
    },
    {
     "name": "stderr",
     "output_type": "stream",
     "text": [
      "|          |   0.0% ◆ elapsed 0.00ms ◆ remaining ?\n",
      "\u001b[A\n",
      "\n",
      "|██████████| 100.0% ◆ elapsed 30.49ms ◆ remaining 0.00ms\n",
      "|██████████| 100.0% ◆ elapsed 12.00ms ◆ remaining 0.00ms\n",
      "|██████████| 100.0% ◆ elapsed 16.59ms ◆ remaining 0.00ms\n",
      "|██████████| 100.0% ◆ elapsed 35.71ms ◆ remaining 0.00ms\n",
      "|██████████| 100.0% ◆ elapsed 123.34ms ◆ remaining 0.00ms\n",
      "\n",
      "\u001b[A\n",
      "|██████████| 100.0% ◆ elapsed 136.42ms ◆ remaining 0.00ms\n",
      "\n",
      "\n",
      "\u001b[A\u001b[A\n",
      "\n",
      "|██████████| 100.0% ◆ elapsed 150.10ms ◆ remaining 0.00ms\n",
      "|██████████| 100.0% ◆ elapsed 15.84ms ◆ remaining 0.00ms\n",
      "|██████████| 100.0% ◆ elapsed 15.34ms ◆ remaining 0.00ms\n",
      "|██████████| 100.0% ◆ elapsed 15.63ms ◆ remaining 0.00ms\n"
     ]
    },
    {
     "name": "stdout",
     "output_type": "stream",
     "text": [
      "Iteration:   1 | Loss: 0.0185\n"
     ]
    },
    {
     "name": "stderr",
     "output_type": "stream",
     "text": [
      "|          |   0.0% ◆ elapsed 0.00ms ◆ remaining ?\n",
      "\u001b[A\n",
      "\n",
      "|██████████| 100.0% ◆ elapsed 34.68ms ◆ remaining 0.00ms\n",
      "|██████████| 100.0% ◆ elapsed 11.04ms ◆ remaining 0.00ms\n",
      "|██████████| 100.0% ◆ elapsed 17.86ms ◆ remaining 0.00ms\n",
      "|██████████| 100.0% ◆ elapsed 17.05ms ◆ remaining 0.00ms\n",
      "|██████████| 100.0% ◆ elapsed 107.36ms ◆ remaining 0.00ms\n",
      "\n",
      "\u001b[A\n",
      "|██████████| 100.0% ◆ elapsed 126.84ms ◆ remaining 0.00ms\n",
      "\n",
      "\n",
      "\u001b[A\u001b[A\n",
      "\n",
      "|██████████| 100.0% ◆ elapsed 142.53ms ◆ remaining 0.00ms\n",
      "|██████████| 100.0% ◆ elapsed 17.97ms ◆ remaining 0.00ms\n",
      "|██████████| 100.0% ◆ elapsed 18.07ms ◆ remaining 0.00ms\n",
      "|██████████| 100.0% ◆ elapsed 17.22ms ◆ remaining 0.00ms\n"
     ]
    },
    {
     "name": "stdout",
     "output_type": "stream",
     "text": [
      "Iteration:   2 | Loss: 0.0165\n"
     ]
    },
    {
     "name": "stderr",
     "output_type": "stream",
     "text": [
      "|          |   0.0% ◆ elapsed 0.00ms ◆ remaining ?\n",
      "\u001b[A\n",
      "\n",
      "|██████████| 100.0% ◆ elapsed 37.90ms ◆ remaining 0.00ms\n",
      "|██████████| 100.0% ◆ elapsed 11.50ms ◆ remaining 0.00ms\n",
      "|██████████| 100.0% ◆ elapsed 17.08ms ◆ remaining 0.00ms\n",
      "|██████████| 100.0% ◆ elapsed 16.57ms ◆ remaining 0.00ms\n",
      "|██████████| 100.0% ◆ elapsed 107.92ms ◆ remaining 0.00ms\n",
      "\n",
      "\u001b[A\n",
      "|██████████| 100.0% ◆ elapsed 122.92ms ◆ remaining 0.00ms\n",
      "\n",
      "\n",
      "\u001b[A\u001b[A\n",
      "\n",
      "|██████████| 100.0% ◆ elapsed 137.28ms ◆ remaining 0.00ms\n",
      "|██████████| 100.0% ◆ elapsed 15.75ms ◆ remaining 0.00ms\n",
      "|██████████| 100.0% ◆ elapsed 16.33ms ◆ remaining 0.00ms\n",
      "|██████████| 100.0% ◆ elapsed 16.96ms ◆ remaining 0.00ms\n"
     ]
    },
    {
     "name": "stdout",
     "output_type": "stream",
     "text": [
      "Iteration:   3 | Loss: 0.0150\n"
     ]
    },
    {
     "name": "stderr",
     "output_type": "stream",
     "text": [
      "|          |   0.0% ◆ elapsed 0.00ms ◆ remaining ?\n",
      "\u001b[A\n",
      "\n",
      "|██████████| 100.0% ◆ elapsed 35.90ms ◆ remaining 0.00ms\n",
      "|██████████| 100.0% ◆ elapsed 14.41ms ◆ remaining 0.00ms\n",
      "|██████████| 100.0% ◆ elapsed 17.61ms ◆ remaining 0.00ms\n",
      "|██████████| 100.0% ◆ elapsed 16.66ms ◆ remaining 0.00ms\n",
      "|██████████| 100.0% ◆ elapsed 128.29ms ◆ remaining 0.00ms\n",
      "\n",
      "\u001b[A\n",
      "|██████████| 100.0% ◆ elapsed 144.09ms ◆ remaining 0.00ms\n",
      "\n",
      "\n",
      "\u001b[A\u001b[A\n",
      "\n",
      "|██████████| 100.0% ◆ elapsed 159.54ms ◆ remaining 0.00ms\n",
      "|██████████| 100.0% ◆ elapsed 15.82ms ◆ remaining 0.00ms\n",
      "|██████████| 100.0% ◆ elapsed 15.94ms ◆ remaining 0.00ms\n",
      "|██████████| 100.0% ◆ elapsed 16.06ms ◆ remaining 0.00ms\n"
     ]
    },
    {
     "name": "stdout",
     "output_type": "stream",
     "text": [
      "Iteration:   4 | Loss: 0.0136\n"
     ]
    },
    {
     "name": "stderr",
     "output_type": "stream",
     "text": [
      "|          |   0.0% ◆ elapsed 0.00ms ◆ remaining ?\n",
      "\u001b[A\n",
      "\n",
      "|██████████| 100.0% ◆ elapsed 38.74ms ◆ remaining 0.00ms\n",
      "|██████████| 100.0% ◆ elapsed 10.79ms ◆ remaining 0.00ms\n",
      "|██████████| 100.0% ◆ elapsed 19.25ms ◆ remaining 0.00ms\n",
      "|██████████| 100.0% ◆ elapsed 17.57ms ◆ remaining 0.00ms\n",
      "|██████████| 100.0% ◆ elapsed 112.07ms ◆ remaining 0.00ms\n",
      "\n",
      "\u001b[A\n",
      "|██████████| 100.0% ◆ elapsed 125.94ms ◆ remaining 0.00ms\n",
      "\n",
      "\n",
      "\u001b[A\u001b[A\n",
      "\n",
      "|██████████| 100.0% ◆ elapsed 140.28ms ◆ remaining 0.00ms\n",
      "|██████████| 100.0% ◆ elapsed 16.09ms ◆ remaining 0.00ms\n",
      "|██████████| 100.0% ◆ elapsed 16.54ms ◆ remaining 0.00ms\n",
      "|██████████| 100.0% ◆ elapsed 16.86ms ◆ remaining 0.00ms\n"
     ]
    },
    {
     "name": "stdout",
     "output_type": "stream",
     "text": [
      "Iteration:   5 | Loss: 0.0123\n"
     ]
    },
    {
     "name": "stderr",
     "output_type": "stream",
     "text": [
      "|          |   0.0% ◆ elapsed 0.00ms ◆ remaining ?\n",
      "\u001b[A\n",
      "\n",
      "|██████████| 100.0% ◆ elapsed 38.88ms ◆ remaining 0.00ms\n",
      "|██████████| 100.0% ◆ elapsed 14.23ms ◆ remaining 0.00ms\n",
      "|██████████| 100.0% ◆ elapsed 18.18ms ◆ remaining 0.00ms\n",
      "|██████████| 100.0% ◆ elapsed 16.62ms ◆ remaining 0.00ms\n",
      "|██████████| 100.0% ◆ elapsed 113.74ms ◆ remaining 0.00ms\n",
      "\n",
      "\u001b[A\n",
      "|██████████| 100.0% ◆ elapsed 124.95ms ◆ remaining 0.00ms\n",
      "\n",
      "\n",
      "\u001b[A\u001b[A\n",
      "\n",
      "|██████████| 100.0% ◆ elapsed 138.40ms ◆ remaining 0.00ms\n",
      "|██████████| 100.0% ◆ elapsed 14.57ms ◆ remaining 0.00ms\n",
      "|██████████| 100.0% ◆ elapsed 15.67ms ◆ remaining 0.00ms\n",
      "|██████████| 100.0% ◆ elapsed 15.93ms ◆ remaining 0.00ms\n"
     ]
    },
    {
     "name": "stdout",
     "output_type": "stream",
     "text": [
      "Iteration:   6 | Loss: 0.0114\n"
     ]
    },
    {
     "name": "stderr",
     "output_type": "stream",
     "text": [
      "|          |   0.0% ◆ elapsed 0.00ms ◆ remaining ?\n",
      "\u001b[A\n",
      "\n",
      "|██████████| 100.0% ◆ elapsed 34.73ms ◆ remaining 0.00ms\n",
      "|██████████| 100.0% ◆ elapsed 13.70ms ◆ remaining 0.00ms\n",
      "|██████████| 100.0% ◆ elapsed 38.46ms ◆ remaining 0.00ms\n",
      "|██████████| 100.0% ◆ elapsed 17.64ms ◆ remaining 0.00ms\n",
      "|██████████| 100.0% ◆ elapsed 129.24ms ◆ remaining 0.00ms\n",
      "\n",
      "\u001b[A\n",
      "|██████████| 100.0% ◆ elapsed 144.64ms ◆ remaining 0.00ms\n",
      "\n",
      "\n",
      "\u001b[A\u001b[A\n",
      "\n",
      "|██████████| 100.0% ◆ elapsed 158.02ms ◆ remaining 0.00ms\n",
      "|██████████| 100.0% ◆ elapsed 17.30ms ◆ remaining 0.00ms\n",
      "|██████████| 100.0% ◆ elapsed 16.55ms ◆ remaining 0.00ms\n",
      "|██████████| 100.0% ◆ elapsed 16.16ms ◆ remaining 0.00ms\n"
     ]
    },
    {
     "name": "stdout",
     "output_type": "stream",
     "text": [
      "Iteration:   7 | Loss: 0.0106\n"
     ]
    },
    {
     "name": "stderr",
     "output_type": "stream",
     "text": [
      "|          |   0.0% ◆ elapsed 0.00ms ◆ remaining ?\n",
      "\u001b[A\n",
      "\n",
      "|██████████| 100.0% ◆ elapsed 43.74ms ◆ remaining 0.00ms\n",
      "|██████████| 100.0% ◆ elapsed 16.87ms ◆ remaining 0.00ms\n",
      "|██████████| 100.0% ◆ elapsed 17.24ms ◆ remaining 0.00ms\n",
      "|██████████| 100.0% ◆ elapsed 18.38ms ◆ remaining 0.00ms\n",
      "|██████████| 100.0% ◆ elapsed 120.45ms ◆ remaining 0.00ms\n",
      "\n",
      "\u001b[A\n",
      "|██████████| 100.0% ◆ elapsed 135.51ms ◆ remaining 0.00ms\n",
      "\n",
      "\n",
      "\u001b[A\u001b[A\n",
      "\n",
      "|██████████| 100.0% ◆ elapsed 147.13ms ◆ remaining 0.00ms\n",
      "|██████████| 100.0% ◆ elapsed 33.98ms ◆ remaining 0.00ms\n",
      "|██████████| 100.0% ◆ elapsed 16.04ms ◆ remaining 0.00ms\n",
      "|██████████| 100.0% ◆ elapsed 15.59ms ◆ remaining 0.00ms\n"
     ]
    },
    {
     "name": "stdout",
     "output_type": "stream",
     "text": [
      "Iteration:   8 | Loss: 0.0097\n"
     ]
    },
    {
     "name": "stderr",
     "output_type": "stream",
     "text": [
      "|          |   0.0% ◆ elapsed 0.00ms ◆ remaining ?\n",
      "\u001b[A\n",
      "\n",
      "|██████████| 100.0% ◆ elapsed 34.51ms ◆ remaining 0.00ms\n",
      "|██████████| 100.0% ◆ elapsed 14.13ms ◆ remaining 0.00ms\n",
      "|██████████| 100.0% ◆ elapsed 17.46ms ◆ remaining 0.00ms\n",
      "|██████████| 100.0% ◆ elapsed 17.56ms ◆ remaining 0.00ms\n",
      "|██████████| 100.0% ◆ elapsed 110.45ms ◆ remaining 0.00ms\n",
      "\n",
      "\u001b[A\n",
      "|██████████| 100.0% ◆ elapsed 125.99ms ◆ remaining 0.00ms\n",
      "\n",
      "\n",
      "\u001b[A\u001b[A\n",
      "\n",
      "|██████████| 100.0% ◆ elapsed 140.21ms ◆ remaining 0.00ms\n",
      "|██████████| 100.0% ◆ elapsed 16.68ms ◆ remaining 0.00ms\n",
      "|██████████| 100.0% ◆ elapsed 15.37ms ◆ remaining 0.00ms\n",
      "|██████████| 100.0% ◆ elapsed 15.81ms ◆ remaining 0.00ms\n"
     ]
    },
    {
     "name": "stdout",
     "output_type": "stream",
     "text": [
      "Iteration:   9 | Loss: 0.0091\n"
     ]
    },
    {
     "name": "stderr",
     "output_type": "stream",
     "text": [
      "|          |   0.0% ◆ elapsed 0.00ms ◆ remaining ?\n",
      "\u001b[A\n",
      "\n",
      "|██████████| 100.0% ◆ elapsed 35.12ms ◆ remaining 0.00ms\n",
      "|██████████| 100.0% ◆ elapsed 34.87ms ◆ remaining 0.00ms\n",
      "|██████████| 100.0% ◆ elapsed 19.03ms ◆ remaining 0.00ms\n",
      "|██████████| 100.0% ◆ elapsed 17.84ms ◆ remaining 0.00ms\n",
      "|██████████| 100.0% ◆ elapsed 133.45ms ◆ remaining 0.00ms\n",
      "\n",
      "\u001b[A\n",
      "|██████████| 100.0% ◆ elapsed 150.11ms ◆ remaining 0.00ms\n",
      "\n",
      "\n",
      "\u001b[A\u001b[A\n",
      "\n",
      "|██████████| 100.0% ◆ elapsed 165.01ms ◆ remaining 0.00ms\n",
      "|██████████| 100.0% ◆ elapsed 17.11ms ◆ remaining 0.00ms\n",
      "|██████████| 100.0% ◆ elapsed 16.02ms ◆ remaining 0.00ms\n",
      "|██████████| 100.0% ◆ elapsed 15.91ms ◆ remaining 0.00ms\n"
     ]
    },
    {
     "name": "stdout",
     "output_type": "stream",
     "text": [
      "Iteration:  10 | Loss: 0.0086\n"
     ]
    },
    {
     "name": "stderr",
     "output_type": "stream",
     "text": [
      "|          |   0.0% ◆ elapsed 0.00ms ◆ remaining ?\n",
      "\u001b[A\n",
      "\n",
      "|██████████| 100.0% ◆ elapsed 34.18ms ◆ remaining 0.00ms\n",
      "|██████████| 100.0% ◆ elapsed 14.71ms ◆ remaining 0.00ms\n",
      "|██████████| 100.0% ◆ elapsed 18.25ms ◆ remaining 0.00ms\n",
      "|██████████| 100.0% ◆ elapsed 18.98ms ◆ remaining 0.00ms\n",
      "|██████████| 100.0% ◆ elapsed 109.65ms ◆ remaining 0.00ms\n",
      "\n",
      "\u001b[A\n",
      "|██████████| 100.0% ◆ elapsed 125.18ms ◆ remaining 0.00ms\n",
      "\n",
      "\n",
      "\u001b[A\u001b[A\n",
      "\n",
      "|██████████| 100.0% ◆ elapsed 159.81ms ◆ remaining 0.00ms\n",
      "|██████████| 100.0% ◆ elapsed 17.22ms ◆ remaining 0.00ms\n",
      "|██████████| 100.0% ◆ elapsed 16.02ms ◆ remaining 0.00ms\n",
      "|██████████| 100.0% ◆ elapsed 16.06ms ◆ remaining 0.00ms\n"
     ]
    },
    {
     "name": "stdout",
     "output_type": "stream",
     "text": [
      "Iteration:  11 | Loss: 0.0081\n"
     ]
    },
    {
     "name": "stderr",
     "output_type": "stream",
     "text": [
      "|          |   0.0% ◆ elapsed 0.00ms ◆ remaining ?\n",
      "\u001b[A\n",
      "\n",
      "|██████████| 100.0% ◆ elapsed 37.76ms ◆ remaining 0.00ms\n",
      "|██████████| 100.0% ◆ elapsed 22.64ms ◆ remaining 0.00ms\n",
      "|██████████| 100.0% ◆ elapsed 17.79ms ◆ remaining 0.00ms\n",
      "|██████████| 100.0% ◆ elapsed 18.92ms ◆ remaining 0.00ms\n",
      "|██████████| 100.0% ◆ elapsed 120.97ms ◆ remaining 0.00ms\n",
      "\n",
      "\u001b[A\n",
      "|██████████| 100.0% ◆ elapsed 134.23ms ◆ remaining 0.00ms\n",
      "\n",
      "\n",
      "\u001b[A\u001b[A\n",
      "\n",
      "|██████████| 100.0% ◆ elapsed 147.06ms ◆ remaining 0.00ms\n",
      "|██████████| 100.0% ◆ elapsed 16.46ms ◆ remaining 0.00ms\n",
      "|██████████| 100.0% ◆ elapsed 15.63ms ◆ remaining 0.00ms\n",
      "|██████████| 100.0% ◆ elapsed 15.92ms ◆ remaining 0.00ms\n"
     ]
    },
    {
     "name": "stdout",
     "output_type": "stream",
     "text": [
      "Iteration:  12 | Loss: 0.0078\n"
     ]
    },
    {
     "name": "stderr",
     "output_type": "stream",
     "text": [
      "|          |   0.0% ◆ elapsed 0.00ms ◆ remaining ?\n",
      "\u001b[A\n",
      "\n",
      "|██████████| 100.0% ◆ elapsed 41.31ms ◆ remaining 0.00ms\n",
      "|██████████| 100.0% ◆ elapsed 32.15ms ◆ remaining 0.00ms\n",
      "|██████████| 100.0% ◆ elapsed 18.31ms ◆ remaining 0.00ms\n",
      "|██████████| 100.0% ◆ elapsed 17.94ms ◆ remaining 0.00ms\n",
      "|██████████| 100.0% ◆ elapsed 137.93ms ◆ remaining 0.00ms\n",
      "\n",
      "\u001b[A\n",
      "|██████████| 100.0% ◆ elapsed 152.87ms ◆ remaining 0.00ms\n",
      "\n",
      "\n",
      "\u001b[A\u001b[A\n",
      "\n",
      "|██████████| 100.0% ◆ elapsed 166.24ms ◆ remaining 0.00ms\n",
      "|██████████| 100.0% ◆ elapsed 16.23ms ◆ remaining 0.00ms\n",
      "|██████████| 100.0% ◆ elapsed 15.67ms ◆ remaining 0.00ms\n",
      "|██████████| 100.0% ◆ elapsed 15.64ms ◆ remaining 0.00ms\n"
     ]
    },
    {
     "name": "stdout",
     "output_type": "stream",
     "text": [
      "Iteration:  13 | Loss: 0.0076\n"
     ]
    },
    {
     "name": "stderr",
     "output_type": "stream",
     "text": [
      "|          |   0.0% ◆ elapsed 0.00ms ◆ remaining ?\n",
      "\u001b[A\n",
      "\n",
      "|██████████| 100.0% ◆ elapsed 39.97ms ◆ remaining 0.00ms\n",
      "|██████████| 100.0% ◆ elapsed 14.47ms ◆ remaining 0.00ms\n",
      "|██████████| 100.0% ◆ elapsed 18.02ms ◆ remaining 0.00ms\n",
      "|██████████| 100.0% ◆ elapsed 18.19ms ◆ remaining 0.00ms\n",
      "|██████████| 100.0% ◆ elapsed 116.64ms ◆ remaining 0.00ms\n",
      "\n",
      "\u001b[A\n",
      "|██████████| 100.0% ◆ elapsed 132.98ms ◆ remaining 0.00ms\n",
      "\n",
      "\n",
      "\u001b[A\u001b[A\n",
      "\n",
      "|██████████| 100.0% ◆ elapsed 147.57ms ◆ remaining 0.00ms\n",
      "|██████████| 100.0% ◆ elapsed 31.96ms ◆ remaining 0.00ms\n",
      "|██████████| 100.0% ◆ elapsed 18.61ms ◆ remaining 0.00ms\n",
      "|██████████| 100.0% ◆ elapsed 15.55ms ◆ remaining 0.00ms\n"
     ]
    },
    {
     "name": "stdout",
     "output_type": "stream",
     "text": [
      "Iteration:  14 | Loss: 0.0074\n"
     ]
    },
    {
     "name": "stderr",
     "output_type": "stream",
     "text": [
      "|          |   0.0% ◆ elapsed 0.00ms ◆ remaining ?\n",
      "\u001b[A\n",
      "\n",
      "|██████████| 100.0% ◆ elapsed 37.98ms ◆ remaining 0.00ms\n",
      "|██████████| 100.0% ◆ elapsed 17.20ms ◆ remaining 0.00ms\n",
      "|██████████| 100.0% ◆ elapsed 19.36ms ◆ remaining 0.00ms\n",
      "|██████████| 100.0% ◆ elapsed 18.48ms ◆ remaining 0.00ms\n",
      "|██████████| 100.0% ◆ elapsed 117.68ms ◆ remaining 0.00ms\n",
      "\n",
      "\u001b[A\n",
      "|██████████| 100.0% ◆ elapsed 132.85ms ◆ remaining 0.00ms\n",
      "\n",
      "\n",
      "\u001b[A\u001b[A\n",
      "\n",
      "|██████████| 100.0% ◆ elapsed 148.04ms ◆ remaining 0.00ms\n",
      "|██████████| 100.0% ◆ elapsed 15.26ms ◆ remaining 0.00ms\n",
      "|██████████| 100.0% ◆ elapsed 15.31ms ◆ remaining 0.00ms\n",
      "|██████████| 100.0% ◆ elapsed 16.00ms ◆ remaining 0.00ms\n"
     ]
    },
    {
     "name": "stdout",
     "output_type": "stream",
     "text": [
      "Iteration:  15 | Loss: 0.0072\n"
     ]
    },
    {
     "name": "stderr",
     "output_type": "stream",
     "text": [
      "|          |   0.0% ◆ elapsed 0.00ms ◆ remaining ?\n",
      "\u001b[A\n",
      "\n",
      "|██████████| 100.0% ◆ elapsed 35.03ms ◆ remaining 0.00ms\n",
      "|██████████| 100.0% ◆ elapsed 19.44ms ◆ remaining 0.00ms\n",
      "|██████████| 100.0% ◆ elapsed 19.32ms ◆ remaining 0.00ms\n",
      "|██████████| 100.0% ◆ elapsed 18.30ms ◆ remaining 0.00ms\n",
      "|██████████| 100.0% ◆ elapsed 117.38ms ◆ remaining 0.00ms\n",
      "\n",
      "\u001b[A\n",
      "|██████████| 100.0% ◆ elapsed 134.04ms ◆ remaining 0.00ms\n",
      "\n",
      "\n",
      "\u001b[A\u001b[A\n",
      "\n",
      "|██████████| 100.0% ◆ elapsed 148.02ms ◆ remaining 0.00ms\n",
      "|██████████| 100.0% ◆ elapsed 16.00ms ◆ remaining 0.00ms\n",
      "|██████████| 100.0% ◆ elapsed 15.82ms ◆ remaining 0.00ms\n",
      "|██████████| 100.0% ◆ elapsed 16.34ms ◆ remaining 0.00ms\n"
     ]
    },
    {
     "name": "stdout",
     "output_type": "stream",
     "text": [
      "Iteration:  16 | Loss: 0.0072\n"
     ]
    },
    {
     "name": "stderr",
     "output_type": "stream",
     "text": [
      "|          |   0.0% ◆ elapsed 0.00ms ◆ remaining ?\n",
      "\u001b[A\n",
      "\n",
      "|██████████| 100.0% ◆ elapsed 44.05ms ◆ remaining 0.00ms\n",
      "|██████████| 100.0% ◆ elapsed 17.00ms ◆ remaining 0.00ms\n",
      "|██████████| 100.0% ◆ elapsed 19.04ms ◆ remaining 0.00ms\n",
      "|██████████| 100.0% ◆ elapsed 19.22ms ◆ remaining 0.00ms\n",
      "|██████████| 100.0% ◆ elapsed 149.29ms ◆ remaining 0.00ms\n",
      "\n",
      "\u001b[A\n",
      "|██████████| 100.0% ◆ elapsed 165.45ms ◆ remaining 0.00ms\n",
      "\n",
      "\n",
      "\u001b[A\u001b[A\n",
      "\n",
      "|██████████| 100.0% ◆ elapsed 181.43ms ◆ remaining 0.00ms\n",
      "|██████████| 100.0% ◆ elapsed 15.55ms ◆ remaining 0.00ms\n",
      "|██████████| 100.0% ◆ elapsed 15.81ms ◆ remaining 0.00ms\n",
      "|██████████| 100.0% ◆ elapsed 15.90ms ◆ remaining 0.00ms\n"
     ]
    },
    {
     "name": "stdout",
     "output_type": "stream",
     "text": [
      "Iteration:  17 | Loss: 0.0071\n"
     ]
    },
    {
     "name": "stderr",
     "output_type": "stream",
     "text": [
      "|          |   0.0% ◆ elapsed 0.00ms ◆ remaining ?\n",
      "\u001b[A\n",
      "\n",
      "|██████████| 100.0% ◆ elapsed 38.18ms ◆ remaining 0.00ms\n",
      "|██████████| 100.0% ◆ elapsed 16.25ms ◆ remaining 0.00ms\n",
      "|██████████| 100.0% ◆ elapsed 18.53ms ◆ remaining 0.00ms\n",
      "|██████████| 100.0% ◆ elapsed 16.19ms ◆ remaining 0.00ms\n",
      "|██████████| 100.0% ◆ elapsed 114.96ms ◆ remaining 0.00ms\n",
      "\n",
      "\u001b[A\n",
      "|██████████| 100.0% ◆ elapsed 132.20ms ◆ remaining 0.00ms\n",
      "\n",
      "\n",
      "\u001b[A\u001b[A\n",
      "\n",
      "|██████████| 100.0% ◆ elapsed 147.23ms ◆ remaining 0.00ms\n",
      "|██████████| 100.0% ◆ elapsed 15.85ms ◆ remaining 0.00ms\n",
      "|██████████| 100.0% ◆ elapsed 16.16ms ◆ remaining 0.00ms\n",
      "|██████████| 100.0% ◆ elapsed 16.26ms ◆ remaining 0.00ms\n"
     ]
    },
    {
     "name": "stdout",
     "output_type": "stream",
     "text": [
      "Iteration:  18 | Loss: 0.0070\n"
     ]
    },
    {
     "name": "stderr",
     "output_type": "stream",
     "text": [
      "|          |   0.0% ◆ elapsed 0.00ms ◆ remaining ?\n",
      "\u001b[A\n",
      "\n",
      "|██████████| 100.0% ◆ elapsed 35.57ms ◆ remaining 0.00ms\n",
      "|██████████| 100.0% ◆ elapsed 17.47ms ◆ remaining 0.00ms\n",
      "|██████████| 100.0% ◆ elapsed 20.18ms ◆ remaining 0.00ms\n",
      "|██████████| 100.0% ◆ elapsed 17.63ms ◆ remaining 0.00ms\n",
      "|██████████| 100.0% ◆ elapsed 116.36ms ◆ remaining 0.00ms\n",
      "\n",
      "\u001b[A\n",
      "|██████████| 100.0% ◆ elapsed 132.81ms ◆ remaining 0.00ms\n",
      "\n",
      "\n",
      "\u001b[A\u001b[A\n",
      "\n",
      "|██████████| 100.0% ◆ elapsed 148.50ms ◆ remaining 0.00ms\n",
      "|██████████| 100.0% ◆ elapsed 15.65ms ◆ remaining 0.00ms\n",
      "|██████████| 100.0% ◆ elapsed 15.83ms ◆ remaining 0.00ms\n",
      "|██████████| 100.0% ◆ elapsed 16.25ms ◆ remaining 0.00ms\n"
     ]
    },
    {
     "name": "stdout",
     "output_type": "stream",
     "text": [
      "Iteration:  19 | Loss: 0.0069\n"
     ]
    },
    {
     "name": "stderr",
     "output_type": "stream",
     "text": [
      "|          |   0.0% ◆ elapsed 0.00ms ◆ remaining ?\n",
      "\u001b[A\n",
      "\n",
      "|██████████| 100.0% ◆ elapsed 40.19ms ◆ remaining 0.00ms\n",
      "|██████████| 100.0% ◆ elapsed 22.59ms ◆ remaining 0.00ms\n",
      "|██████████| 100.0% ◆ elapsed 19.28ms ◆ remaining 0.00ms\n",
      "|██████████| 100.0% ◆ elapsed 19.25ms ◆ remaining 0.00ms\n",
      "|██████████| 100.0% ◆ elapsed 125.76ms ◆ remaining 0.00ms\n",
      "\n",
      "\u001b[A\n",
      "|██████████| 100.0% ◆ elapsed 158.17ms ◆ remaining 0.00ms\n",
      "\n",
      "\n",
      "\u001b[A\u001b[A\n",
      "\n",
      "|██████████| 100.0% ◆ elapsed 172.72ms ◆ remaining 0.00ms\n",
      "|██████████| 100.0% ◆ elapsed 15.54ms ◆ remaining 0.00ms\n",
      "|██████████| 100.0% ◆ elapsed 15.53ms ◆ remaining 0.00ms\n",
      "|██████████| 100.0% ◆ elapsed 15.85ms ◆ remaining 0.00ms\n"
     ]
    },
    {
     "name": "stdout",
     "output_type": "stream",
     "text": [
      "Iteration:  20 | Loss: 0.0069\n"
     ]
    },
    {
     "name": "stderr",
     "output_type": "stream",
     "text": [
      "|          |   0.0% ◆ elapsed 0.00ms ◆ remaining ?\n",
      "\u001b[A\n",
      "\n",
      "|██████████| 100.0% ◆ elapsed 35.72ms ◆ remaining 0.00ms\n",
      "|██████████| 100.0% ◆ elapsed 16.28ms ◆ remaining 0.00ms\n",
      "|██████████| 100.0% ◆ elapsed 18.66ms ◆ remaining 0.00ms\n",
      "|██████████| 100.0% ◆ elapsed 18.31ms ◆ remaining 0.00ms\n",
      "|██████████| 100.0% ◆ elapsed 114.84ms ◆ remaining 0.00ms\n",
      "\n",
      "\u001b[A\n",
      "|██████████| 100.0% ◆ elapsed 132.55ms ◆ remaining 0.00ms\n",
      "\n",
      "\n",
      "\u001b[A\u001b[A\n",
      "\n",
      "|██████████| 100.0% ◆ elapsed 147.16ms ◆ remaining 0.00ms\n",
      "|██████████| 100.0% ◆ elapsed 15.62ms ◆ remaining 0.00ms\n",
      "|██████████| 100.0% ◆ elapsed 15.66ms ◆ remaining 0.00ms\n",
      "|██████████| 100.0% ◆ elapsed 15.60ms ◆ remaining 0.00ms\n"
     ]
    },
    {
     "name": "stdout",
     "output_type": "stream",
     "text": [
      "Iteration:  21 | Loss: 0.0068\n"
     ]
    },
    {
     "name": "stderr",
     "output_type": "stream",
     "text": [
      "|          |   0.0% ◆ elapsed 0.00ms ◆ remaining ?\n",
      "\u001b[A\n",
      "\n",
      "|██████████| 100.0% ◆ elapsed 57.45ms ◆ remaining 0.00ms\n",
      "|██████████| 100.0% ◆ elapsed 17.03ms ◆ remaining 0.00ms\n",
      "|██████████| 100.0% ◆ elapsed 19.02ms ◆ remaining 0.00ms\n",
      "|██████████| 100.0% ◆ elapsed 18.97ms ◆ remaining 0.00ms\n",
      "|██████████| 100.0% ◆ elapsed 138.97ms ◆ remaining 0.00ms\n",
      "\n",
      "\u001b[A\n",
      "|██████████| 100.0% ◆ elapsed 154.43ms ◆ remaining 0.00ms\n",
      "\n",
      "\n",
      "\u001b[A\u001b[A\n",
      "\n",
      "|██████████| 100.0% ◆ elapsed 167.42ms ◆ remaining 0.00ms\n",
      "|██████████| 100.0% ◆ elapsed 16.11ms ◆ remaining 0.00ms\n",
      "|██████████| 100.0% ◆ elapsed 15.99ms ◆ remaining 0.00ms\n",
      "|██████████| 100.0% ◆ elapsed 16.32ms ◆ remaining 0.00ms\n"
     ]
    },
    {
     "name": "stdout",
     "output_type": "stream",
     "text": [
      "Iteration:  22 | Loss: 0.0067\n"
     ]
    },
    {
     "name": "stderr",
     "output_type": "stream",
     "text": [
      "|          |   0.0% ◆ elapsed 0.00ms ◆ remaining ?\n",
      "\u001b[A\n",
      "\n",
      "|██████████| 100.0% ◆ elapsed 38.61ms ◆ remaining 0.00ms\n",
      "|██████████| 100.0% ◆ elapsed 17.65ms ◆ remaining 0.00ms\n",
      "|██████████| 100.0% ◆ elapsed 18.97ms ◆ remaining 0.00ms\n",
      "|██████████| 100.0% ◆ elapsed 18.42ms ◆ remaining 0.00ms\n",
      "|██████████| 100.0% ◆ elapsed 119.04ms ◆ remaining 0.00ms\n",
      "\n",
      "\u001b[A\n",
      "|██████████| 100.0% ◆ elapsed 133.85ms ◆ remaining 0.00ms\n",
      "\n",
      "\n",
      "\u001b[A\u001b[A\n",
      "\n",
      "|██████████| 100.0% ◆ elapsed 169.53ms ◆ remaining 0.00ms\n",
      "|██████████| 100.0% ◆ elapsed 17.49ms ◆ remaining 0.00ms\n",
      "|██████████| 100.0% ◆ elapsed 16.23ms ◆ remaining 0.00ms\n",
      "|██████████| 100.0% ◆ elapsed 16.01ms ◆ remaining 0.00ms\n"
     ]
    },
    {
     "name": "stdout",
     "output_type": "stream",
     "text": [
      "Iteration:  23 | Loss: 0.0067\n"
     ]
    },
    {
     "name": "stderr",
     "output_type": "stream",
     "text": [
      "|          |   0.0% ◆ elapsed 0.00ms ◆ remaining ?\n",
      "\u001b[A\n",
      "\n",
      "|██████████| 100.0% ◆ elapsed 37.00ms ◆ remaining 0.00ms\n",
      "|██████████| 100.0% ◆ elapsed 15.98ms ◆ remaining 0.00ms\n",
      "|██████████| 100.0% ◆ elapsed 18.52ms ◆ remaining 0.00ms\n",
      "|██████████| 100.0% ◆ elapsed 19.72ms ◆ remaining 0.00ms\n",
      "|██████████| 100.0% ◆ elapsed 117.26ms ◆ remaining 0.00ms\n",
      "\n",
      "\u001b[A\n",
      "|██████████| 100.0% ◆ elapsed 133.29ms ◆ remaining 0.00ms\n",
      "\n",
      "\n",
      "\u001b[A\u001b[A\n",
      "\n",
      "|██████████| 100.0% ◆ elapsed 149.18ms ◆ remaining 0.00ms\n",
      "|██████████| 100.0% ◆ elapsed 16.94ms ◆ remaining 0.00ms\n",
      "|██████████| 100.0% ◆ elapsed 15.81ms ◆ remaining 0.00ms\n",
      "|██████████| 100.0% ◆ elapsed 16.01ms ◆ remaining 0.00ms\n"
     ]
    },
    {
     "name": "stdout",
     "output_type": "stream",
     "text": [
      "Iteration:  24 | Loss: 0.0067\n"
     ]
    },
    {
     "name": "stderr",
     "output_type": "stream",
     "text": [
      "|          |   0.0% ◆ elapsed 0.00ms ◆ remaining ?\n",
      "\u001b[A\n",
      "\n",
      "|██████████| 100.0% ◆ elapsed 40.24ms ◆ remaining 0.00ms\n",
      "|██████████| 100.0% ◆ elapsed 14.23ms ◆ remaining 0.00ms\n",
      "|██████████| 100.0% ◆ elapsed 18.25ms ◆ remaining 0.00ms\n",
      "|██████████| 100.0% ◆ elapsed 35.85ms ◆ remaining 0.00ms\n",
      "|██████████| 100.0% ◆ elapsed 137.49ms ◆ remaining 0.00ms\n",
      "\n",
      "\u001b[A\n",
      "|██████████| 100.0% ◆ elapsed 153.94ms ◆ remaining 0.00ms\n",
      "\n",
      "\n",
      "\u001b[A\u001b[A\n",
      "\n",
      "|██████████| 100.0% ◆ elapsed 169.37ms ◆ remaining 0.00ms\n",
      "|██████████| 100.0% ◆ elapsed 16.50ms ◆ remaining 0.00ms\n",
      "|██████████| 100.0% ◆ elapsed 15.30ms ◆ remaining 0.00ms\n",
      "|██████████| 100.0% ◆ elapsed 15.59ms ◆ remaining 0.00ms\n"
     ]
    },
    {
     "name": "stdout",
     "output_type": "stream",
     "text": [
      "Iteration:  25 | Loss: 0.0067\n"
     ]
    },
    {
     "name": "stderr",
     "output_type": "stream",
     "text": [
      "|          |   0.0% ◆ elapsed 0.00ms ◆ remaining ?\n",
      "\u001b[A\n",
      "\n",
      "|██████████| 100.0% ◆ elapsed 41.97ms ◆ remaining 0.00ms\n",
      "|██████████| 100.0% ◆ elapsed 15.55ms ◆ remaining 0.00ms\n",
      "|██████████| 100.0% ◆ elapsed 19.26ms ◆ remaining 0.00ms\n",
      "|██████████| 100.0% ◆ elapsed 18.21ms ◆ remaining 0.00ms\n",
      "|██████████| 100.0% ◆ elapsed 130.72ms ◆ remaining 0.00ms\n",
      "\n",
      "\u001b[A\n",
      "|██████████| 100.0% ◆ elapsed 147.61ms ◆ remaining 0.00ms\n",
      "\n",
      "\n",
      "\u001b[A\u001b[A\n",
      "\n",
      "|██████████| 100.0% ◆ elapsed 162.36ms ◆ remaining 0.00ms\n",
      "|██████████| 100.0% ◆ elapsed 16.47ms ◆ remaining 0.00ms\n",
      "|██████████| 100.0% ◆ elapsed 15.80ms ◆ remaining 0.00ms\n",
      "|██████████| 100.0% ◆ elapsed 15.88ms ◆ remaining 0.00ms\n"
     ]
    },
    {
     "name": "stdout",
     "output_type": "stream",
     "text": [
      "Iteration:  26 | Loss: 0.0067\n"
     ]
    },
    {
     "name": "stderr",
     "output_type": "stream",
     "text": [
      "|          |   0.0% ◆ elapsed 0.00ms ◆ remaining ?\n",
      "\u001b[A\n",
      "\n",
      "|██████████| 100.0% ◆ elapsed 38.52ms ◆ remaining 0.00ms\n",
      "|██████████| 100.0% ◆ elapsed 16.39ms ◆ remaining 0.00ms\n",
      "|██████████| 100.0% ◆ elapsed 20.61ms ◆ remaining 0.00ms\n",
      "|██████████| 100.0% ◆ elapsed 20.83ms ◆ remaining 0.00ms\n",
      "|██████████| 100.0% ◆ elapsed 120.97ms ◆ remaining 0.00ms\n",
      "\n",
      "\u001b[A\n",
      "|██████████| 100.0% ◆ elapsed 136.42ms ◆ remaining 0.00ms\n",
      "\n",
      "\n",
      "\u001b[A\u001b[A\n",
      "\n",
      "|██████████| 100.0% ◆ elapsed 152.46ms ◆ remaining 0.00ms\n",
      "|██████████| 100.0% ◆ elapsed 15.48ms ◆ remaining 0.00ms\n",
      "|██████████| 100.0% ◆ elapsed 15.40ms ◆ remaining 0.00ms\n",
      "|██████████| 100.0% ◆ elapsed 15.82ms ◆ remaining 0.00ms\n"
     ]
    },
    {
     "name": "stdout",
     "output_type": "stream",
     "text": [
      "Iteration:  27 | Loss: 0.0067\n"
     ]
    },
    {
     "name": "stderr",
     "output_type": "stream",
     "text": [
      "|          |   0.0% ◆ elapsed 0.00ms ◆ remaining ?\n",
      "\u001b[A\n",
      "\n",
      "|██████████| 100.0% ◆ elapsed 35.83ms ◆ remaining 0.00ms\n",
      "|██████████| 100.0% ◆ elapsed 33.22ms ◆ remaining 0.00ms\n",
      "|██████████| 100.0% ◆ elapsed 16.79ms ◆ remaining 0.00ms\n",
      "|██████████| 100.0% ◆ elapsed 19.00ms ◆ remaining 0.00ms\n",
      "|██████████| 100.0% ◆ elapsed 134.86ms ◆ remaining 0.00ms\n",
      "\n",
      "\u001b[A\n",
      "|██████████| 100.0% ◆ elapsed 151.52ms ◆ remaining 0.00ms\n",
      "\n",
      "\n",
      "\u001b[A\u001b[A\n",
      "\n",
      "|██████████| 100.0% ◆ elapsed 166.34ms ◆ remaining 0.00ms\n",
      "|██████████| 100.0% ◆ elapsed 16.74ms ◆ remaining 0.00ms\n",
      "|██████████| 100.0% ◆ elapsed 15.68ms ◆ remaining 0.00ms\n",
      "|██████████| 100.0% ◆ elapsed 16.14ms ◆ remaining 0.00ms\n"
     ]
    },
    {
     "name": "stdout",
     "output_type": "stream",
     "text": [
      "Iteration:  28 | Loss: 0.0067\n"
     ]
    },
    {
     "name": "stderr",
     "output_type": "stream",
     "text": [
      "|          |   0.0% ◆ elapsed 0.00ms ◆ remaining ?\n",
      "\u001b[A\n",
      "\n",
      "|██████████| 100.0% ◆ elapsed 41.38ms ◆ remaining 0.00ms\n",
      "|██████████| 100.0% ◆ elapsed 21.38ms ◆ remaining 0.00ms\n",
      "|██████████| 100.0% ◆ elapsed 18.05ms ◆ remaining 0.00ms\n",
      "|██████████| 100.0% ◆ elapsed 19.30ms ◆ remaining 0.00ms\n",
      "|██████████| 100.0% ◆ elapsed 125.02ms ◆ remaining 0.00ms\n",
      "\n",
      "\u001b[A\n",
      "|██████████| 100.0% ◆ elapsed 140.01ms ◆ remaining 0.00ms\n",
      "\n",
      "\n",
      "\u001b[A\u001b[A\n",
      "\n",
      "|██████████| 100.0% ◆ elapsed 150.59ms ◆ remaining 0.00ms\n",
      "|██████████| 100.0% ◆ elapsed 37.76ms ◆ remaining 0.00ms\n",
      "|██████████| 100.0% ◆ elapsed 17.79ms ◆ remaining 0.00ms\n",
      "|██████████| 100.0% ◆ elapsed 17.12ms ◆ remaining 0.00ms\n"
     ]
    },
    {
     "name": "stdout",
     "output_type": "stream",
     "text": [
      "Iteration:  29 | Loss: 0.0066\n"
     ]
    },
    {
     "name": "stderr",
     "output_type": "stream",
     "text": [
      "|          |   0.0% ◆ elapsed 0.00ms ◆ remaining ?\n",
      "\u001b[A\n",
      "\n",
      "|██████████| 100.0% ◆ elapsed 34.68ms ◆ remaining 0.00ms\n",
      "|██████████| 100.0% ◆ elapsed 16.65ms ◆ remaining 0.00ms\n",
      "|██████████| 100.0% ◆ elapsed 18.76ms ◆ remaining 0.00ms\n",
      "|██████████| 100.0% ◆ elapsed 18.14ms ◆ remaining 0.00ms\n",
      "|██████████| 100.0% ◆ elapsed 114.08ms ◆ remaining 0.00ms\n",
      "\n",
      "\u001b[A\n",
      "|██████████| 100.0% ◆ elapsed 128.85ms ◆ remaining 0.00ms\n",
      "\n",
      "\n",
      "\u001b[A\u001b[A\n",
      "\n",
      "|██████████| 100.0% ◆ elapsed 143.41ms ◆ remaining 0.00ms\n",
      "|██████████| 100.0% ◆ elapsed 14.91ms ◆ remaining 0.00ms\n",
      "|██████████| 100.0% ◆ elapsed 16.91ms ◆ remaining 0.00ms\n",
      "|██████████| 100.0% ◆ elapsed 16.13ms ◆ remaining 0.00ms\n"
     ]
    },
    {
     "name": "stdout",
     "output_type": "stream",
     "text": [
      "Iteration:  30 | Loss: 0.0066\n"
     ]
    },
    {
     "name": "stderr",
     "output_type": "stream",
     "text": [
      "|          |   0.0% ◆ elapsed 0.00ms ◆ remaining ?\n",
      "\u001b[A\n",
      "\n",
      "|██████████| 100.0% ◆ elapsed 39.85ms ◆ remaining 0.00ms\n",
      "|██████████| 100.0% ◆ elapsed 37.12ms ◆ remaining 0.00ms\n",
      "|██████████| 100.0% ◆ elapsed 19.57ms ◆ remaining 0.00ms\n",
      "|██████████| 100.0% ◆ elapsed 18.99ms ◆ remaining 0.00ms\n",
      "|██████████| 100.0% ◆ elapsed 141.03ms ◆ remaining 0.00ms\n",
      "\n",
      "\u001b[A\n",
      "|██████████| 100.0% ◆ elapsed 156.48ms ◆ remaining 0.00ms\n",
      "\n",
      "\n",
      "\u001b[A\u001b[A\n",
      "\n",
      "|██████████| 100.0% ◆ elapsed 169.72ms ◆ remaining 0.00ms\n",
      "|██████████| 100.0% ◆ elapsed 15.50ms ◆ remaining 0.00ms\n",
      "|██████████| 100.0% ◆ elapsed 15.66ms ◆ remaining 0.00ms\n",
      "|██████████| 100.0% ◆ elapsed 15.67ms ◆ remaining 0.00ms\n"
     ]
    },
    {
     "name": "stdout",
     "output_type": "stream",
     "text": [
      "Iteration:  31 | Loss: 0.0066\n"
     ]
    },
    {
     "name": "stderr",
     "output_type": "stream",
     "text": [
      "|          |   0.0% ◆ elapsed 0.00ms ◆ remaining ?\n",
      "\u001b[A\n",
      "\n",
      "|██████████| 100.0% ◆ elapsed 39.35ms ◆ remaining 0.00ms\n",
      "|██████████| 100.0% ◆ elapsed 17.03ms ◆ remaining 0.00ms\n",
      "|██████████| 100.0% ◆ elapsed 19.67ms ◆ remaining 0.00ms\n",
      "|██████████| 100.0% ◆ elapsed 18.74ms ◆ remaining 0.00ms\n",
      "|██████████| 100.0% ◆ elapsed 121.25ms ◆ remaining 0.00ms\n",
      "\n",
      "\u001b[A\n",
      "|██████████| 100.0% ◆ elapsed 137.42ms ◆ remaining 0.00ms\n",
      "\n",
      "\n",
      "\u001b[A\u001b[A\n",
      "\n",
      "|██████████| 100.0% ◆ elapsed 151.07ms ◆ remaining 0.00ms\n",
      "|██████████| 100.0% ◆ elapsed 16.39ms ◆ remaining 0.00ms\n",
      "|██████████| 100.0% ◆ elapsed 36.28ms ◆ remaining 0.00ms\n",
      "|██████████| 100.0% ◆ elapsed 15.52ms ◆ remaining 0.00ms\n"
     ]
    },
    {
     "name": "stdout",
     "output_type": "stream",
     "text": [
      "Iteration:  32 | Loss: 0.0066\n"
     ]
    },
    {
     "name": "stderr",
     "output_type": "stream",
     "text": [
      "|          |   0.0% ◆ elapsed 0.00ms ◆ remaining ?\n",
      "\u001b[A\n",
      "\n",
      "|██████████| 100.0% ◆ elapsed 39.25ms ◆ remaining 0.00ms\n",
      "|██████████| 100.0% ◆ elapsed 16.48ms ◆ remaining 0.00ms\n",
      "|██████████| 100.0% ◆ elapsed 18.68ms ◆ remaining 0.00ms\n",
      "|██████████| 100.0% ◆ elapsed 18.94ms ◆ remaining 0.00ms\n",
      "|██████████| 100.0% ◆ elapsed 119.32ms ◆ remaining 0.00ms\n",
      "\n",
      "\u001b[A\n",
      "|██████████| 100.0% ◆ elapsed 135.18ms ◆ remaining 0.00ms\n",
      "\n",
      "\n",
      "\u001b[A\u001b[A\n",
      "\n",
      "|██████████| 100.0% ◆ elapsed 149.91ms ◆ remaining 0.00ms\n",
      "|██████████| 100.0% ◆ elapsed 17.18ms ◆ remaining 0.00ms\n",
      "|██████████| 100.0% ◆ elapsed 17.02ms ◆ remaining 0.00ms\n",
      "|██████████| 100.0% ◆ elapsed 15.89ms ◆ remaining 0.00ms\n"
     ]
    },
    {
     "name": "stdout",
     "output_type": "stream",
     "text": [
      "Iteration:  33 | Loss: 0.0066\n"
     ]
    },
    {
     "name": "stderr",
     "output_type": "stream",
     "text": [
      "|          |   0.0% ◆ elapsed 0.00ms ◆ remaining ?\n",
      "\u001b[A\n",
      "\n",
      "|██████████| 100.0% ◆ elapsed 42.84ms ◆ remaining 0.00ms\n",
      "|██████████| 100.0% ◆ elapsed 43.09ms ◆ remaining 0.00ms\n",
      "|██████████| 100.0% ◆ elapsed 20.72ms ◆ remaining 0.00ms\n",
      "|██████████| 100.0% ◆ elapsed 20.12ms ◆ remaining 0.00ms\n",
      "|██████████| 100.0% ◆ elapsed 153.14ms ◆ remaining 0.00ms\n",
      "\n",
      "\u001b[A\n",
      "|██████████| 100.0% ◆ elapsed 167.63ms ◆ remaining 0.00ms\n",
      "\n",
      "\n",
      "\u001b[A\u001b[A\n",
      "\n",
      "|██████████| 100.0% ◆ elapsed 181.11ms ◆ remaining 0.00ms\n",
      "|██████████| 100.0% ◆ elapsed 15.90ms ◆ remaining 0.00ms\n",
      "|██████████| 100.0% ◆ elapsed 18.27ms ◆ remaining 0.00ms\n",
      "|██████████| 100.0% ◆ elapsed 16.67ms ◆ remaining 0.00ms\n"
     ]
    },
    {
     "name": "stdout",
     "output_type": "stream",
     "text": [
      "Iteration:  34 | Loss: 0.0065\n"
     ]
    },
    {
     "name": "stderr",
     "output_type": "stream",
     "text": [
      "|          |   0.0% ◆ elapsed 0.00ms ◆ remaining ?\n",
      "\u001b[A\n",
      "\n",
      "|██████████| 100.0% ◆ elapsed 38.60ms ◆ remaining 0.00ms\n",
      "|██████████| 100.0% ◆ elapsed 18.77ms ◆ remaining 0.00ms\n",
      "|██████████| 100.0% ◆ elapsed 20.26ms ◆ remaining 0.00ms\n",
      "|██████████| 100.0% ◆ elapsed 42.85ms ◆ remaining 0.00ms\n",
      "|██████████| 100.0% ◆ elapsed 149.09ms ◆ remaining 0.00ms\n",
      "\n",
      "\u001b[A\n",
      "|██████████| 100.0% ◆ elapsed 162.71ms ◆ remaining 0.00ms\n",
      "\n",
      "\n",
      "\u001b[A\u001b[A\n",
      "\n",
      "|██████████| 100.0% ◆ elapsed 177.12ms ◆ remaining 0.00ms\n",
      "|██████████| 100.0% ◆ elapsed 15.84ms ◆ remaining 0.00ms\n",
      "|██████████| 100.0% ◆ elapsed 18.23ms ◆ remaining 0.00ms\n",
      "|██████████| 100.0% ◆ elapsed 17.23ms ◆ remaining 0.00ms\n"
     ]
    },
    {
     "name": "stdout",
     "output_type": "stream",
     "text": [
      "Iteration:  35 | Loss: 0.0065\n"
     ]
    },
    {
     "name": "stderr",
     "output_type": "stream",
     "text": [
      "|          |   0.0% ◆ elapsed 0.00ms ◆ remaining ?\n",
      "\u001b[A\n",
      "\n",
      "|██████████| 100.0% ◆ elapsed 39.49ms ◆ remaining 0.00ms\n",
      "|██████████| 100.0% ◆ elapsed 18.37ms ◆ remaining 0.00ms\n",
      "|██████████| 100.0% ◆ elapsed 19.31ms ◆ remaining 0.00ms\n",
      "|██████████| 100.0% ◆ elapsed 18.85ms ◆ remaining 0.00ms\n",
      "|██████████| 100.0% ◆ elapsed 124.34ms ◆ remaining 0.00ms\n",
      "\n",
      "\u001b[A\n",
      "|██████████| 100.0% ◆ elapsed 141.92ms ◆ remaining 0.00ms\n",
      "\n",
      "\n",
      "\u001b[A\u001b[A\n",
      "\n",
      "|██████████| 100.0% ◆ elapsed 157.81ms ◆ remaining 0.00ms\n",
      "|██████████| 100.0% ◆ elapsed 35.55ms ◆ remaining 0.00ms\n",
      "|██████████| 100.0% ◆ elapsed 20.68ms ◆ remaining 0.00ms\n",
      "|██████████| 100.0% ◆ elapsed 17.14ms ◆ remaining 0.00ms\n"
     ]
    },
    {
     "name": "stdout",
     "output_type": "stream",
     "text": [
      "Iteration:  36 | Loss: 0.0065\n"
     ]
    },
    {
     "name": "stderr",
     "output_type": "stream",
     "text": [
      "|          |   0.0% ◆ elapsed 0.00ms ◆ remaining ?\n",
      "\u001b[A\n",
      "\n",
      "|██████████| 100.0% ◆ elapsed 42.18ms ◆ remaining 0.00ms\n",
      "|██████████| 100.0% ◆ elapsed 17.60ms ◆ remaining 0.00ms\n",
      "|██████████| 100.0% ◆ elapsed 19.22ms ◆ remaining 0.00ms\n",
      "|██████████| 100.0% ◆ elapsed 18.61ms ◆ remaining 0.00ms\n",
      "|██████████| 100.0% ◆ elapsed 123.17ms ◆ remaining 0.00ms\n",
      "\n",
      "\u001b[A\n",
      "|██████████| 100.0% ◆ elapsed 138.43ms ◆ remaining 0.00ms\n",
      "\n",
      "\n",
      "\u001b[A\u001b[A\n",
      "\n",
      "|██████████| 100.0% ◆ elapsed 152.04ms ◆ remaining 0.00ms\n",
      "|██████████| 100.0% ◆ elapsed 15.80ms ◆ remaining 0.00ms\n",
      "|██████████| 100.0% ◆ elapsed 15.59ms ◆ remaining 0.00ms\n",
      "|██████████| 100.0% ◆ elapsed 15.64ms ◆ remaining 0.00ms\n"
     ]
    },
    {
     "name": "stdout",
     "output_type": "stream",
     "text": [
      "Iteration:  37 | Loss: 0.0065\n"
     ]
    },
    {
     "name": "stderr",
     "output_type": "stream",
     "text": [
      "|          |   0.0% ◆ elapsed 0.00ms ◆ remaining ?\n",
      "\u001b[A\n",
      "\n",
      "|██████████| 100.0% ◆ elapsed 38.92ms ◆ remaining 0.00ms\n",
      "|██████████| 100.0% ◆ elapsed 15.94ms ◆ remaining 0.00ms\n",
      "|██████████| 100.0% ◆ elapsed 19.49ms ◆ remaining 0.00ms\n",
      "|██████████| 100.0% ◆ elapsed 38.98ms ◆ remaining 0.00ms\n",
      "|██████████| 100.0% ◆ elapsed 140.68ms ◆ remaining 0.00ms\n",
      "\n",
      "\u001b[A\n",
      "|██████████| 100.0% ◆ elapsed 157.84ms ◆ remaining 0.00ms\n",
      "\n",
      "\n",
      "\u001b[A\u001b[A\n",
      "\n",
      "|██████████| 100.0% ◆ elapsed 172.84ms ◆ remaining 0.00ms\n",
      "|██████████| 100.0% ◆ elapsed 17.09ms ◆ remaining 0.00ms\n",
      "|██████████| 100.0% ◆ elapsed 16.39ms ◆ remaining 0.00ms\n",
      "|██████████| 100.0% ◆ elapsed 16.18ms ◆ remaining 0.00ms\n"
     ]
    },
    {
     "name": "stdout",
     "output_type": "stream",
     "text": [
      "Iteration:  38 | Loss: 0.0065\n"
     ]
    },
    {
     "name": "stderr",
     "output_type": "stream",
     "text": [
      "|          |   0.0% ◆ elapsed 0.00ms ◆ remaining ?\n",
      "\u001b[A\n",
      "\n",
      "|██████████| 100.0% ◆ elapsed 36.91ms ◆ remaining 0.00ms\n",
      "|██████████| 100.0% ◆ elapsed 17.75ms ◆ remaining 0.00ms\n",
      "|██████████| 100.0% ◆ elapsed 19.05ms ◆ remaining 0.00ms\n",
      "|██████████| 100.0% ◆ elapsed 20.97ms ◆ remaining 0.00ms\n",
      "|██████████| 100.0% ◆ elapsed 119.85ms ◆ remaining 0.00ms\n",
      "\n",
      "\u001b[A\n",
      "|██████████| 100.0% ◆ elapsed 135.79ms ◆ remaining 0.00ms\n",
      "\n",
      "\n",
      "\u001b[A\u001b[A\n",
      "\n",
      "|██████████| 100.0% ◆ elapsed 147.20ms ◆ remaining 0.00ms\n",
      "|██████████| 100.0% ◆ elapsed 15.48ms ◆ remaining 0.00ms\n",
      "|██████████| 100.0% ◆ elapsed 15.77ms ◆ remaining 0.00ms\n",
      "|██████████| 100.0% ◆ elapsed 16.34ms ◆ remaining 0.00ms\n"
     ]
    },
    {
     "name": "stdout",
     "output_type": "stream",
     "text": [
      "Iteration:  39 | Loss: 0.0064\n"
     ]
    },
    {
     "name": "stderr",
     "output_type": "stream",
     "text": [
      "|          |   0.0% ◆ elapsed 0.00ms ◆ remaining ?\n",
      "\u001b[A\n",
      "\n",
      "|██████████| 100.0% ◆ elapsed 39.98ms ◆ remaining 0.00ms\n",
      "|██████████| 100.0% ◆ elapsed 16.56ms ◆ remaining 0.00ms\n",
      "|██████████| 100.0% ◆ elapsed 19.40ms ◆ remaining 0.00ms\n",
      "|██████████| 100.0% ◆ elapsed 19.44ms ◆ remaining 0.00ms\n",
      "|██████████| 100.0% ◆ elapsed 121.76ms ◆ remaining 0.00ms\n",
      "\n",
      "\u001b[A\n",
      "|██████████| 100.0% ◆ elapsed 136.66ms ◆ remaining 0.00ms\n",
      "\n",
      "\n",
      "\u001b[A\u001b[A\n",
      "\n",
      "|██████████| 100.0% ◆ elapsed 149.73ms ◆ remaining 0.00ms\n",
      "|██████████| 100.0% ◆ elapsed 17.06ms ◆ remaining 0.00ms\n",
      "|██████████| 100.0% ◆ elapsed 16.15ms ◆ remaining 0.00ms\n",
      "|██████████| 100.0% ◆ elapsed 15.90ms ◆ remaining 0.00ms\n"
     ]
    },
    {
     "name": "stdout",
     "output_type": "stream",
     "text": [
      "Iteration:  40 | Loss: 0.0064\n"
     ]
    },
    {
     "name": "stderr",
     "output_type": "stream",
     "text": [
      "|          |   0.0% ◆ elapsed 0.00ms ◆ remaining ?\n",
      "\u001b[A\n",
      "\n",
      "|██████████| 100.0% ◆ elapsed 42.80ms ◆ remaining 0.00ms\n",
      "|██████████| 100.0% ◆ elapsed 17.98ms ◆ remaining 0.00ms\n",
      "|██████████| 100.0% ◆ elapsed 20.02ms ◆ remaining 0.00ms\n",
      "|██████████| 100.0% ◆ elapsed 19.45ms ◆ remaining 0.00ms\n",
      "|██████████| 100.0% ◆ elapsed 147.88ms ◆ remaining 0.00ms\n",
      "\n",
      "\u001b[A\n",
      "|██████████| 100.0% ◆ elapsed 164.72ms ◆ remaining 0.00ms\n",
      "\n",
      "\n",
      "\u001b[A\u001b[A\n",
      "\n",
      "|██████████| 100.0% ◆ elapsed 177.65ms ◆ remaining 0.00ms\n",
      "|██████████| 100.0% ◆ elapsed 15.98ms ◆ remaining 0.00ms\n",
      "|██████████| 100.0% ◆ elapsed 16.33ms ◆ remaining 0.00ms\n",
      "|██████████| 100.0% ◆ elapsed 15.73ms ◆ remaining 0.00ms\n"
     ]
    },
    {
     "name": "stdout",
     "output_type": "stream",
     "text": [
      "Iteration:  41 | Loss: 0.0064\n"
     ]
    },
    {
     "name": "stderr",
     "output_type": "stream",
     "text": [
      "|          |   0.0% ◆ elapsed 0.00ms ◆ remaining ?\n",
      "\u001b[A\n",
      "\n",
      "|██████████| 100.0% ◆ elapsed 39.18ms ◆ remaining 0.00ms\n",
      "|██████████| 100.0% ◆ elapsed 16.64ms ◆ remaining 0.00ms\n",
      "|██████████| 100.0% ◆ elapsed 19.31ms ◆ remaining 0.00ms\n",
      "|██████████| 100.0% ◆ elapsed 18.85ms ◆ remaining 0.00ms\n",
      "|██████████| 100.0% ◆ elapsed 120.72ms ◆ remaining 0.00ms\n",
      "\n",
      "\u001b[A\n",
      "|██████████| 100.0% ◆ elapsed 136.26ms ◆ remaining 0.00ms\n",
      "\n",
      "\n",
      "\u001b[A\u001b[A\n",
      "\n",
      "|██████████| 100.0% ◆ elapsed 148.19ms ◆ remaining 0.00ms\n",
      "|██████████| 100.0% ◆ elapsed 17.46ms ◆ remaining 0.00ms\n",
      "|██████████| 100.0% ◆ elapsed 15.37ms ◆ remaining 0.00ms\n",
      "|██████████| 100.0% ◆ elapsed 15.56ms ◆ remaining 0.00ms\n"
     ]
    },
    {
     "ename": "KeyboardInterrupt",
     "evalue": "",
     "output_type": "error",
     "traceback": [
      "\u001b[0;31m---------------------------------------------------------------------------\u001b[0m",
      "\u001b[0;31mKeyboardInterrupt\u001b[0m                         Traceback (most recent call last)",
      "Cell \u001b[0;32mIn[9], line 67\u001b[0m\n\u001b[1;32m     65\u001b[0m \u001b[38;5;28;01mfor\u001b[39;00m i \u001b[38;5;129;01min\u001b[39;00m \u001b[38;5;28mrange\u001b[39m(\u001b[38;5;241m100\u001b[39m):\n\u001b[1;32m     66\u001b[0m     opt_state, loss_value \u001b[38;5;241m=\u001b[39m step(opt_state)                \u001b[38;5;66;03m# Updates the optimizer state with one gradient step (Adam)\u001b[39;00m\n\u001b[0;32m---> 67\u001b[0m     loss_history\u001b[38;5;241m.\u001b[39mappend(\u001b[38;5;28;43mfloat\u001b[39;49m\u001b[43m(\u001b[49m\u001b[43mloss_value\u001b[49m\u001b[43m)\u001b[49m)                 \u001b[38;5;66;03m# Appends the loss value to loss_history\u001b[39;00m\n\u001b[1;32m     68\u001b[0m     \u001b[38;5;28mprint\u001b[39m(\u001b[38;5;124mf\u001b[39m\u001b[38;5;124m\"\u001b[39m\u001b[38;5;124mIteration: \u001b[39m\u001b[38;5;132;01m{\u001b[39;00mi\u001b[38;5;132;01m:\u001b[39;00m\u001b[38;5;124m3d\u001b[39m\u001b[38;5;132;01m}\u001b[39;00m\u001b[38;5;124m | Loss: \u001b[39m\u001b[38;5;132;01m{\u001b[39;00mloss_value\u001b[38;5;132;01m:\u001b[39;00m\u001b[38;5;124m.4f\u001b[39m\u001b[38;5;132;01m}\u001b[39;00m\u001b[38;5;124m\"\u001b[39m)   \u001b[38;5;66;03m# Prints the iteration # with the loss value\u001b[39;00m\n\u001b[1;32m     69\u001b[0m eps_d_optimized \u001b[38;5;241m=\u001b[39m get_params(opt_state)                    \u001b[38;5;66;03m# The final set of drive amplitudes that minimize the loss function\u001b[39;00m\n",
      "File \u001b[0;32m/opt/anaconda3/envs/qc/lib/python3.12/site-packages/jax/_src/array.py:297\u001b[0m, in \u001b[0;36mArrayImpl.__float__\u001b[0;34m(self)\u001b[0m\n\u001b[1;32m    295\u001b[0m \u001b[38;5;28;01mdef\u001b[39;00m \u001b[38;5;21m__float__\u001b[39m(\u001b[38;5;28mself\u001b[39m):\n\u001b[1;32m    296\u001b[0m   core\u001b[38;5;241m.\u001b[39mcheck_scalar_conversion(\u001b[38;5;28mself\u001b[39m)\n\u001b[0;32m--> 297\u001b[0m   \u001b[38;5;28;01mreturn\u001b[39;00m \u001b[38;5;28;43mself\u001b[39;49m\u001b[38;5;241;43m.\u001b[39;49m\u001b[43m_value\u001b[49m\u001b[38;5;241m.\u001b[39m\u001b[38;5;21m__float__\u001b[39m()\n",
      "File \u001b[0;32m/opt/anaconda3/envs/qc/lib/python3.12/site-packages/jax/_src/profiler.py:333\u001b[0m, in \u001b[0;36mannotate_function.<locals>.wrapper\u001b[0;34m(*args, **kwargs)\u001b[0m\n\u001b[1;32m    330\u001b[0m \u001b[38;5;129m@wraps\u001b[39m(func)\n\u001b[1;32m    331\u001b[0m \u001b[38;5;28;01mdef\u001b[39;00m \u001b[38;5;21mwrapper\u001b[39m(\u001b[38;5;241m*\u001b[39margs, \u001b[38;5;241m*\u001b[39m\u001b[38;5;241m*\u001b[39mkwargs):\n\u001b[1;32m    332\u001b[0m   \u001b[38;5;28;01mwith\u001b[39;00m TraceAnnotation(name, \u001b[38;5;241m*\u001b[39m\u001b[38;5;241m*\u001b[39mdecorator_kwargs):\n\u001b[0;32m--> 333\u001b[0m     \u001b[38;5;28;01mreturn\u001b[39;00m \u001b[43mfunc\u001b[49m\u001b[43m(\u001b[49m\u001b[38;5;241;43m*\u001b[39;49m\u001b[43margs\u001b[49m\u001b[43m,\u001b[49m\u001b[43m \u001b[49m\u001b[38;5;241;43m*\u001b[39;49m\u001b[38;5;241;43m*\u001b[39;49m\u001b[43mkwargs\u001b[49m\u001b[43m)\u001b[49m\n\u001b[1;32m    334\u001b[0m   \u001b[38;5;28;01mreturn\u001b[39;00m wrapper\n",
      "File \u001b[0;32m/opt/anaconda3/envs/qc/lib/python3.12/site-packages/jax/_src/array.py:627\u001b[0m, in \u001b[0;36mArrayImpl._value\u001b[0;34m(self)\u001b[0m\n\u001b[1;32m    625\u001b[0m \u001b[38;5;28;01mif\u001b[39;00m \u001b[38;5;28mself\u001b[39m\u001b[38;5;241m.\u001b[39m_npy_value \u001b[38;5;129;01mis\u001b[39;00m \u001b[38;5;28;01mNone\u001b[39;00m:\n\u001b[1;32m    626\u001b[0m   \u001b[38;5;28;01mif\u001b[39;00m \u001b[38;5;28mself\u001b[39m\u001b[38;5;241m.\u001b[39mis_fully_replicated:\n\u001b[0;32m--> 627\u001b[0m     \u001b[38;5;28mself\u001b[39m\u001b[38;5;241m.\u001b[39m_npy_value \u001b[38;5;241m=\u001b[39m \u001b[38;5;28;43mself\u001b[39;49m\u001b[38;5;241;43m.\u001b[39;49m\u001b[43m_single_device_array_to_np_array\u001b[49m\u001b[43m(\u001b[49m\u001b[43m)\u001b[49m\n\u001b[1;32m    628\u001b[0m     \u001b[38;5;28mself\u001b[39m\u001b[38;5;241m.\u001b[39m_npy_value\u001b[38;5;241m.\u001b[39mflags\u001b[38;5;241m.\u001b[39mwriteable \u001b[38;5;241m=\u001b[39m \u001b[38;5;28;01mFalse\u001b[39;00m\n\u001b[1;32m    629\u001b[0m     \u001b[38;5;28;01mreturn\u001b[39;00m cast(np\u001b[38;5;241m.\u001b[39mndarray, \u001b[38;5;28mself\u001b[39m\u001b[38;5;241m.\u001b[39m_npy_value)\n",
      "\u001b[0;31mKeyboardInterrupt\u001b[0m: "
     ]
    }
   ],
   "source": [
    "## Task 1.4 - Optimal control for state-preparation\n",
    "# Hilbert space truncations\n",
    "na = 20   # Memory mode a - encodes the logical cat qubit\n",
    "nb = 5    # Buffer mode b - mediates 2-photon dissipation to stabilize the cat state\n",
    "\n",
    "# Operators in the composite Hilbert space\n",
    "a = dq.tensor(dq.destroy(na), dq.eye(nb))   # Memory mode a annihilation operator\n",
    "adag = a.dag()                              # Memory mode a creation operator\n",
    "b = dq.tensor(dq.eye(na), dq.destroy(nb))   # Buffer mode b annihilation operator\n",
    "bdag = b.dag()                              # Buffer mode b creation operator\n",
    "\n",
    "# More parameters\n",
    "g_2 = 1.0        # 2-photon exchange coupling strength between the memory and buffer modes\n",
    "kappa_b = 10.0   # Decay rate of the buffer mode\n",
    "alpha = 2.0      # Target coherent-state amplitude so that alpha^2 = 4\n",
    "\n",
    "# Create a piecewise constant time array \n",
    "T = 3.0                                 # Total simulation time [s]\n",
    "N_bins = 10                             # Number of bins to divide the time into\n",
    "t_bins = jnp.linspace(0, T, N_bins+1)   # Bin boundaries\n",
    "dt = T / N_bins                         # Time step for each bin\n",
    "# Also create a time array for final plotting if needed\n",
    "t_save = jnp.linspace(0, T, 300)\n",
    "\n",
    "# 2-photon Hamiltonian construction\n",
    "H_2ph = g_2 * (adag @ adag @ b) + jnp.conjugate(g_2) * (a @ a @ bdag)   # 2-photon exchange Hamiltonian - couples the memory and buffer modes\n",
    "\n",
    "# Initial state and collapse operator\n",
    "psi0 = dq.tensor(dq.fock(na, 0), dq.fock(nb, 0))   # Vacuum state initialization in both modes\n",
    "c_ops = [jnp.sqrt(kappa_b) * b]                    # Collapse operator on the buffer mode (1-photon loss)\n",
    "\n",
    "# Construct the target cat state for the memory mode\n",
    "coherent_plus = dq.coherent(na, alpha)       # Coherent state |alpha> for the memory mode\n",
    "coherent_minus = dq.coherent(na, -alpha)     # Coherent state |-alpha> for the memory mode\n",
    "cat_state = coherent_plus + coherent_minus   # Unnormalized cat state\n",
    "cat_even = dq.unit(cat_state)                # Normalized even cat state\n",
    "\n",
    "# Loss function (loss = 1 - fidelity between the final memory state and the target cat state)\n",
    "def loss_function(eps_d_values):\n",
    "    state = psi0                                                     # Initialize the state as the vacuum state (full 2-mode system)\n",
    "    for i in range(N_bins):                                          \n",
    "        H_d = eps_d_values[i] * (b + bdag)                           # 1-photon drive Hamiltonian for this bin\n",
    "        H = H_2ph + H_d                                              # Total Hamilitonian for this bin\n",
    "        result = dq.mesolve(H, c_ops, state, jnp.array([0.0, dt]))   # Solve the Linblad master equation - returns the time evolution of the density matrix for each time step   \n",
    "        state = result.states[-1]                                    # Updates the bin state with the final state from the list of density matrices (states)\n",
    "    rho_a = dq.ptrace(state, 0)                                      # Partial trace over the buffer mode to extract the reduced state of the memory mode\n",
    "    return 1.0 - dq.fidelity(rho_a, cat_even)                        # Returns the loss given the reduced density matrix and the normalized even cat state\n",
    "\n",
    "# Initialize optimizer\n",
    "opt_init, opt_update, get_params = adam(step_size=0.1)   # Configures an Adam optimizer with a fixed learning rate and returns values for opt_init, opt_update, & get_params\n",
    "eps_d_init = -(alpha**2) * jnp.ones(N_bins)              # Initializes the piecewise drive amplitudes to a constant value across all bins\n",
    "opt_state = opt_init(eps_d_init)                         # Sets up the internal Adam buffers used during gradient-based optimization\n",
    "print(\"Initial loss =\", loss_function(eps_d_init))       # Prints the initial loss to see how it evolves with time\n",
    "\n",
    "# JIT-compiled optimization step\n",
    "@jax.jit   # The computer tells JAX to Just-In-Time (JIT) compile the step function\n",
    "def step(opt_state): \n",
    "    params = get_params(opt_state)                                  # Extracts the piecewise drive amplitudes from the optimizer state\n",
    "    loss_value, grads = jax.value_and_grad(loss_function)(params)   # Returns both the function’s value and its gradient with respect to the inputs, & returns the scalar loss\n",
    "    opt_state = opt_update(0, grads, opt_state)                     # New updated optimizer state\n",
    "    return opt_state, loss_value                                    # Returns the optimizer state and loss value to\n",
    "\n",
    "# Run optimization\n",
    "loss_history = []   # Empty array to record loss\n",
    "for i in range(100):\n",
    "    opt_state, loss_value = step(opt_state)                # Updates the optimizer state with one gradient step (Adam)\n",
    "    loss_history.append(float(loss_value))                 # Appends the loss value to loss_history\n",
    "    print(f\"Iteration: {i:3d} | Loss: {loss_value:.4f}\")   # Prints the iteration # with the loss value\n",
    "eps_d_optimized = get_params(opt_state)                    # The final set of drive amplitudes that minimize the loss function\n",
    "\n",
    "# Plotting loss history\n",
    "fig, (ax1, ax2) = plt.subplots(1, 2, figsize=(12, 4))\n",
    "ax1.plot(loss_history)                                  # Plots the loss\n",
    "ax1.set_xlabel('Iteration')                             # Sets the x label for the plot\n",
    "ax1.set_ylabel('Loss (1 - Fidelity)')                   # Sets the y label for the plot\n",
    "ax1.set_yscale('log')                                   # Sets the y scale for the plot\n",
    "ax1.grid(True)                                          # Adds a grid to the plot\n",
    "\n",
    "# Plot optimized eps_d(t)\n",
    "t_bins = jnp.linspace(0, T, N_bins, endpoint=False)   # Creates an array of N_bins equally spaced points from 0 up to but not including T\n",
    "ax2.step(t_bins, eps_d_optimized, where='post')       # Creates a step graph for the optimized eps_d values\n",
    "ax2.set_xlabel('Time')                                # Sets the x label for the plot\n",
    "ax2.set_ylabel('$\\\\epsilon_d(t)$')                    # Sets the y label for the plot\n",
    "ax2.grid(True)                                        # Adds a grid to the plot\n",
    "\n",
    "plt.tight_layout()   # Adjusts spacing between plotted elements\n",
    "plt.show()           # Shows all plots"
   ]
  }
 ],
 "metadata": {
  "kernelspec": {
   "display_name": "qc",
   "language": "python",
   "name": "python3"
  },
  "language_info": {
   "codemirror_mode": {
    "name": "ipython",
    "version": 3
   },
   "file_extension": ".py",
   "mimetype": "text/x-python",
   "name": "python",
   "nbconvert_exporter": "python",
   "pygments_lexer": "ipython3",
   "version": "3.12.7"
  }
 },
 "nbformat": 4,
 "nbformat_minor": 2
}
