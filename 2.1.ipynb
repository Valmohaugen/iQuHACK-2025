{
 "cells": [
  {
   "cell_type": "code",
   "execution_count": 2,
   "id": "00d0502a-50d5-4904-a3a1-b6bab7ad41b2",
   "metadata": {
    "tags": []
   },
   "outputs": [],
   "source": [
    "import dynamiqs as dq\n",
    "import matplotlib.pyplot as plt\n",
    "import jax\n",
    "import jax.numpy as jnp\n",
    "import numpy as np "
   ]
  },
  {
   "cell_type": "code",
   "execution_count": 61,
   "id": "4c3caa71-c2fe-468b-b54f-dbe75d573f3d",
   "metadata": {},
   "outputs": [
    {
     "ename": "ValueError",
     "evalue": "Qarrays have incompatible Hilbert space dimensions. Got (20, 5) and (20, 20).",
     "output_type": "error",
     "traceback": [
      "\u001b[0;31m---------------------------------------------------------------------------\u001b[0m",
      "\u001b[0;31mValueError\u001b[0m                                Traceback (most recent call last)",
      "Cell \u001b[0;32mIn[61], line 54\u001b[0m\n\u001b[1;32m     50\u001b[0m \u001b[38;5;28;01mdef\u001b[39;00m \u001b[38;5;21mo\u001b[39m(t):\n\u001b[1;32m     51\u001b[0m     \u001b[38;5;28;01mreturn\u001b[39;00m jnp\u001b[38;5;241m.\u001b[39meye(na)\n\u001b[0;32m---> 54\u001b[0m H_0 \u001b[38;5;241m=\u001b[39m w_a0 \u001b[38;5;241m*\u001b[39m (dq\u001b[38;5;241m.\u001b[39mdag(a) \u001b[38;5;241m@\u001b[39m a) \u001b[38;5;241m+\u001b[39m w_b0 \u001b[38;5;241m*\u001b[39m (dq\u001b[38;5;241m.\u001b[39mdag(b) \u001b[38;5;241m@\u001b[39m b)\n\u001b[1;32m     55\u001b[0m \u001b[38;5;66;03m#H_0 = dq.modulated(o, (H_0))\u001b[39;00m\n\u001b[1;32m     56\u001b[0m \u001b[38;5;66;03m#print(H_0(1))\u001b[39;00m\n\u001b[1;32m     57\u001b[0m H_ATS \u001b[38;5;241m=\u001b[39m dq\u001b[38;5;241m.\u001b[39mmodulated(ATS, (jnp\u001b[38;5;241m.\u001b[39meye(na)))\n",
      "File \u001b[0;32m~/.local/lib/python3.11/site-packages/dynamiqs/qarrays/sparsedia_qarray.py:261\u001b[0m, in \u001b[0;36mSparseDIAQArray.__add__\u001b[0;34m(self, y)\u001b[0m\n\u001b[1;32m    260\u001b[0m \u001b[38;5;28;01mdef\u001b[39;00m \u001b[38;5;21m__add__\u001b[39m(\u001b[38;5;28mself\u001b[39m, y: QArrayLike) \u001b[38;5;241m-\u001b[39m\u001b[38;5;241m>\u001b[39m QArray:\n\u001b[0;32m--> 261\u001b[0m     \u001b[38;5;28msuper\u001b[39m()\u001b[38;5;241m.\u001b[39m\u001b[38;5;21m__add__\u001b[39m(y)\n\u001b[1;32m    263\u001b[0m     \u001b[38;5;28;01mif\u001b[39;00m \u001b[38;5;28misinstance\u001b[39m(y, SparseDIAQArray):\n\u001b[1;32m    264\u001b[0m         offsets, diags \u001b[38;5;241m=\u001b[39m add_sparsedia_sparsedia(\n\u001b[1;32m    265\u001b[0m             \u001b[38;5;28mself\u001b[39m\u001b[38;5;241m.\u001b[39moffsets, \u001b[38;5;28mself\u001b[39m\u001b[38;5;241m.\u001b[39mdiags, y\u001b[38;5;241m.\u001b[39moffsets, y\u001b[38;5;241m.\u001b[39mdiags\n\u001b[1;32m    266\u001b[0m         )\n",
      "File \u001b[0;32m~/.local/lib/python3.11/site-packages/dynamiqs/qarrays/qarray.py:478\u001b[0m, in \u001b[0;36mQArray.__add__\u001b[0;34m(self, y)\u001b[0m\n\u001b[1;32m    471\u001b[0m     \u001b[38;5;28;01mraise\u001b[39;00m \u001b[38;5;167;01mNotImplementedError\u001b[39;00m(\n\u001b[1;32m    472\u001b[0m         \u001b[38;5;124m'\u001b[39m\u001b[38;5;124mAdding a scalar to a qarray with the `+` operator is not supported. \u001b[39m\u001b[38;5;124m'\u001b[39m\n\u001b[1;32m    473\u001b[0m         \u001b[38;5;124m'\u001b[39m\u001b[38;5;124mTo add a scaled identity matrix, use `x + scalar * dq.eye(*x.dims)`.\u001b[39m\u001b[38;5;124m'\u001b[39m\n\u001b[1;32m    474\u001b[0m         \u001b[38;5;124m'\u001b[39m\u001b[38;5;124m To add a scalar, use `x.addscalar(scalar)`.\u001b[39m\u001b[38;5;124m'\u001b[39m\n\u001b[1;32m    475\u001b[0m     )\n\u001b[1;32m    477\u001b[0m \u001b[38;5;28;01mif\u001b[39;00m \u001b[38;5;28misinstance\u001b[39m(y, QArray):\n\u001b[0;32m--> 478\u001b[0m     _check_compatible_dims(\u001b[38;5;28mself\u001b[39m\u001b[38;5;241m.\u001b[39mdims, y\u001b[38;5;241m.\u001b[39mdims)\n",
      "File \u001b[0;32m~/.local/lib/python3.11/site-packages/dynamiqs/qarrays/qarray.py:562\u001b[0m, in \u001b[0;36m_check_compatible_dims\u001b[0;34m(dims1, dims2)\u001b[0m\n\u001b[1;32m    560\u001b[0m \u001b[38;5;28;01mdef\u001b[39;00m \u001b[38;5;21m_check_compatible_dims\u001b[39m(dims1: \u001b[38;5;28mtuple\u001b[39m[\u001b[38;5;28mint\u001b[39m, \u001b[38;5;241m.\u001b[39m\u001b[38;5;241m.\u001b[39m\u001b[38;5;241m.\u001b[39m], dims2: \u001b[38;5;28mtuple\u001b[39m[\u001b[38;5;28mint\u001b[39m, \u001b[38;5;241m.\u001b[39m\u001b[38;5;241m.\u001b[39m\u001b[38;5;241m.\u001b[39m]):\n\u001b[1;32m    561\u001b[0m     \u001b[38;5;28;01mif\u001b[39;00m dims1 \u001b[38;5;241m!=\u001b[39m dims2:\n\u001b[0;32m--> 562\u001b[0m         \u001b[38;5;28;01mraise\u001b[39;00m \u001b[38;5;167;01mValueError\u001b[39;00m(\n\u001b[1;32m    563\u001b[0m             \u001b[38;5;124mf\u001b[39m\u001b[38;5;124m'\u001b[39m\u001b[38;5;124mQarrays have incompatible Hilbert space dimensions. \u001b[39m\u001b[38;5;124m'\u001b[39m\n\u001b[1;32m    564\u001b[0m             \u001b[38;5;124mf\u001b[39m\u001b[38;5;124m'\u001b[39m\u001b[38;5;124mGot \u001b[39m\u001b[38;5;132;01m{\u001b[39;00mdims1\u001b[38;5;132;01m}\u001b[39;00m\u001b[38;5;124m and \u001b[39m\u001b[38;5;132;01m{\u001b[39;00mdims2\u001b[38;5;132;01m}\u001b[39;00m\u001b[38;5;124m.\u001b[39m\u001b[38;5;124m'\u001b[39m\n\u001b[1;32m    565\u001b[0m         )\n",
      "\u001b[0;31mValueError\u001b[0m: Qarrays have incompatible Hilbert space dimensions. Got (20, 5) and (20, 20)."
     ]
    }
   ],
   "source": [
    "na = 20 # Hilbert space dimension\n",
    "a = dq.destroy(na) # annihilaiton operator\n",
    "b = dq.destroy(na) # annihilation operator\n",
    "#psi0 = dq.tensor(dq.fock(na, 0), dq.fock(nb, 0)) # initial state\n",
    "psi0 = dq.tensor(dq.coherent(na, 0.0), dq.coherent(na, 0.0)) # start in the vaccum\n",
    "dq.set_precision('double')  # 'simple' by default\n",
    "\n",
    "# Define constants\n",
    "pi2 = 2.0 * np.pi\n",
    "w_a0 = 5.26 * pi2 # GHz to Hz\n",
    "w_b0 = 7.70 * pi2 # GHz to Hz\n",
    "psi_a = 0.06\n",
    "psi_b = 0.29\n",
    "E_j = 42.76  # GHz to Hz\n",
    "DE_j = 0.47  # GHz to Hz\n",
    "w_d = 7.623 * pi2 # GHz to Hz\n",
    "w_p = 2.891 * pi2  # GHz to Hz\n",
    "e_d = -3.815e-3 * pi2 # MHz to Hz\n",
    "e_p = 0.122  # rad\n",
    "\n",
    "\"\"\"\n",
    "w_a0 = 5.26e9 * 2 * jnp.pi \n",
    "w_b0 = 7.70e9 * 2 * jnp.pi\n",
    "psi_a = 0.06\n",
    "psi_b = 0.29\n",
    "E_j = 42.76e9 #where h? \n",
    "DE_j = 0.47e9 #where h?\n",
    "w_d = 7.623e9 * 2 * jnp.pi\n",
    "w_p = 2.891e9 * 2 * jnp.pi\n",
    "e_d = -3.815e6 * 2 * jnp.pi\n",
    "e_p = 0.122\n",
    "\"\"\"\n",
    "tsave = jnp.linspace(0, 1e-7, 100)\n",
    "\n",
    "def ATS(t):\n",
    "    e_t = e_p * jnp.cos(w_p * t)\n",
    "    A = psi_a * (a + a.dag()) + psi_b * (b + b.dag())\n",
    "    #scalar = (-2*E_j * e_t * psi_a * (a + a.dag())) - (2 * E_j * e_t * psi_b * (b + b.dag())) + ((1/3)* E_j * e_t * (A @ A @ A)) \\\n",
    "    scalar = -2*E_j * jnp.sin(e_t) * jnp.sin(dq.to_jax(A)) \\\n",
    "        + 2 * DE_j * jnp.cos(e_t) * jnp.cos(dq.to_jax(A))\n",
    "    #jax.debug.print(\"ATS scalar at t={}: {}\", t, scalar)  # JAX-safe debugging    \n",
    "    return scalar \n",
    "\n",
    "def d(t):\n",
    "    scalar = 2 * e_d * jnp.cos(w_d * t)\n",
    "    #jax.debug.print(\"d scalar at t={}: {}\", t, scalar)  # JAX-safe debugging\n",
    "    return scalar * (jnp.eye(na))\n",
    "\n",
    "def o(t):\n",
    "    return jnp.eye(na)\n",
    "\n",
    "\n",
    "H_0 = w_a0 * (dq.dag(a) @ a) + w_b0 * (dq.dag(b) @ b)\n",
    "#H_0 = dq.modulated(o, (H_0))\n",
    "#print(H_0(1))\n",
    "H_ATS = dq.modulated(ATS, (jnp.eye(na)))\n",
    "#H_ATS = dq.modulated(ATS, (a + dq.dag(a)))\n",
    "\n",
    "#print(H_ATS(1))\n",
    "#H_d = dq.modulated(d, (b + dq.dag(b)))\n",
    "H_d = dq.modulated(d, (b + dq.dag(b)))\n",
    "\n",
    "\n",
    "H = H_0  + H_ATS + H_d #+ H_d.dag() + H_ATS.dag()\n",
    "\n",
    "kappa_a = 9.3e-6\n",
    "kappa_b = 2.6e-3\n",
    "alpha = 2.0 # cat size\n",
    "beta = 1.0 \n",
    "#two_photon_loss_a = jnp.sqrt(kappa_a) * (a @ a - alpha**2 * dq.eye(na))\n",
    "#two_photon_loss_b = jnp.sqrt(kappa_b) * (b @ b - beta**2 * dq.eye(na))\n",
    "loss_ops = [jnp.sqrt(kappa_a) * a + jnp.sqrt(kappa_b) * b]\n",
    "#loss_ops = [two_photon_loss_a, two_photon_loss_b]\n",
    "print(H.shape)\n",
    "print(psi0.shape)\n",
    "psi0 = np.reshape(psi0, (na,na))\n",
    "print(H.shape)\n",
    "print(psi0.shape)\n",
    "res = dq.mesolve(H, loss_ops, psi0, tsave, solver=dq.solver.Tsit5(max_steps=1000000))\n",
    "\n"
   ]
  },
  {
   "cell_type": "code",
   "execution_count": 39,
   "id": "a920dff5-68b9-48bb-ae64-0d348afcd357",
   "metadata": {
    "tags": []
   },
   "outputs": [
    {
     "data": {
      "text/html": [
       "<img src=\"wigner_mode_a.gif\">"
      ],
      "text/plain": [
       "<IPython.core.display.HTML object>"
      ]
     },
     "metadata": {},
     "output_type": "display_data"
    }
   ],
   "source": [
    "import matplotlib.pyplot as plt\n",
    "import matplotlib.animation as animation\n",
    "from matplotlib.animation import PillowWriter\n",
    "from IPython.display import HTML, display\n",
    "from functools import reduce     # Import reduce to sum qarrays without starting with 0# ---------------------------\n",
    "# 6. Animate the Wigner function of mode a\n",
    "# ---------------------------\n",
    "fig_w, ax = plt.subplots(2, 2, figsize=(6, 6))\n",
    "\n",
    "def update(frame):\n",
    "    # Obtain the reduced state of mode a by tracing out mode b.\n",
    "    for a in [0,1]:\n",
    "        for b in [0,1]:\n",
    "            ax_w = ax[a][b]\n",
    "            ax_w.cla()  # Clear the axis.\n",
    "            rho_a = dq.ptrace(res.states[:][a][frame][][b], 0)\n",
    "            dq.plot.wigner(rho_a, ax=ax_w)\n",
    "            ax_w.set_title(f\"Mode a Wigner Function\\nTime = {tsave[frame]*1e8:.2f}\")\n",
    "\n",
    "ani = animation.FuncAnimation(fig_w, update, frames=len(tsave), repeat=False)\n",
    "gif_filename = 'wigner_mode_a.gif'\n",
    "ani.save(gif_filename, writer=PillowWriter(fps=len(tsave) / 4))\n",
    "plt.close(fig_w)\n",
    "display(HTML(f'<img src=\"{gif_filename}\">'))"
   ]
  },
  {
   "cell_type": "code",
   "execution_count": 87,
   "id": "e5ea45f4-c511-49d7-a39b-cf92abcba844",
   "metadata": {
    "tags": []
   },
   "outputs": [
    {
     "name": "stdout",
     "output_type": "stream",
     "text": [
      "term1 (100, 100)\n",
      "term2 (100, 100)\n",
      "scalar (100, 100)\n",
      "term1 (100, 100)\n",
      "term2 (100, 100)\n",
      "scalar (100, 100)\n",
      "term1 (100, 100)\n",
      "term2 (100, 100)\n",
      "scalar (100, 100)\n"
     ]
    },
    {
     "name": "stderr",
     "output_type": "stream",
     "text": [
      "/local_scratch/slurm.1820260/ipykernel_1110836/3967094035.py:67: UserWarning: A sparse qarray has been converted to dense layout due to element-wise addition with a dense qarray.\n",
      "  return H_0 + H_ATS + H_d\n",
      "/home/najones/.local/lib/python3.11/site-packages/dynamiqs/qarrays/qarray.py:481: UserWarning: A sparse qarray has been converted to dense layout due to element-wise addition with a dense qarray.\n",
      "  return self.__add__(y)\n",
      "/local_scratch/slurm.1820260/ipykernel_1110836/3967094035.py:67: UserWarning: A sparse qarray has been converted to dense layout due to element-wise addition with a dense qarray.\n",
      "  return H_0 + H_ATS + H_d\n",
      "/home/najones/.local/lib/python3.11/site-packages/dynamiqs/qarrays/qarray.py:481: UserWarning: A sparse qarray has been converted to dense layout due to element-wise addition with a dense qarray.\n",
      "  return self.__add__(y)\n",
      "/local_scratch/slurm.1820260/ipykernel_1110836/3967094035.py:67: UserWarning: A sparse qarray has been converted to dense layout due to element-wise addition with a dense qarray.\n",
      "  return H_0 + H_ATS + H_d\n",
      "/home/najones/.local/lib/python3.11/site-packages/dynamiqs/qarrays/qarray.py:481: UserWarning: A sparse qarray has been converted to dense layout due to element-wise addition with a dense qarray.\n",
      "  return self.__add__(y)\n"
     ]
    },
    {
     "name": "stdout",
     "output_type": "stream",
     "text": [
      "term1 (100, 100)\n",
      "term2 (100, 100)\n",
      "scalar (100, 100)\n",
      "term1 (100, 100)\n",
      "term2 (100, 100)\n",
      "scalar (100, 100)\n",
      "term1 (100, 100)\n",
      "term2 (100, 100)\n",
      "scalar (100, 100)\n"
     ]
    },
    {
     "name": "stderr",
     "output_type": "stream",
     "text": [
      "|██████████| 100.0% ◆ elapsed 4.03ms ◆ remaining 0.00ms\n"
     ]
    }
   ],
   "source": [
    "na = 20 # Hilbert space dimension\n",
    "nb = 5\n",
    "#a, b = dq.destroy(na, nb) # annihilaiton operator\n",
    "a = dq.tensor(dq.destroy(na), dq.eye(nb))     # Mode a annihilation operator\n",
    "b = dq.tensor(dq.eye(na), dq.destroy(nb))\n",
    "identity = dq.tensor(dq.eye(na), dq.eye(nb))\n",
    "psi0 = dq.tensor(dq.fock(na, 0), dq.fock(nb, 0)) # initial state\n",
    "#psi0 = dq.tensor(dq.coherent(na, 0.0), dq.coherent(nb, 0.0)) # start in the vaccum\n",
    "dq.set_precision('double')  # 'simple' by default\n",
    "\n",
    "# Define constants\n",
    "pi2 = 2.0 * np.pi\n",
    "w_a0 = 5.26 * pi2 # GHz to Hz\n",
    "w_b0 = 7.70 * pi2 # GHz to Hz\n",
    "psi_a = 0.06\n",
    "psi_b = 0.29\n",
    "E_j = 42.76  # GHz to Hz\n",
    "DE_j = 0.47  # GHz to Hz\n",
    "w_d = 7.623 * pi2 # GHz to Hz\n",
    "w_p = 2.891 * pi2  # GHz to Hz\n",
    "e_d = -3.815e-3 * pi2 # MHz to Hz\n",
    "e_p = 0.122  # rad\n",
    "\n",
    "\"\"\"\n",
    "w_a0 = 5.26e9 * 2 * jnp.pi \n",
    "w_b0 = 7.70e9 * 2 * jnp.pi\n",
    "psi_a = 0.06\n",
    "psi_b = 0.29\n",
    "E_j = 42.76e9 #where h? \n",
    "DE_j = 0.47e9 #where h?\n",
    "w_d = 7.623e9 * 2 * jnp.pi\n",
    "w_p = 2.891e9 * 2 * jnp.pi\n",
    "e_d = -3.815e6 * 2 * jnp.pi\n",
    "e_p = 0.122\n",
    "\"\"\"\n",
    "tsave = jnp.linspace(0, 1e-7, 100)\n",
    "\n",
    "def ATS(t):\n",
    "    e_t = e_p * jnp.cos(w_p * t)\n",
    "    A = psi_a * (a + a.dag()) + psi_b * (b + b.dag())\n",
    "    #Attempted taylor expansion from tutorial 2\n",
    "    #term1 = (-2*E_j * e_t * psi_a * (a + a.dag())) - (2 * E_j * e_t * psi_b * (b + b.dag())) + ((1/3)* E_j * e_t * (A @ A @ A)) \\\n",
    "    term1 = -2*E_j * jnp.sin(e_t) * jnp.sin(dq.to_jax(A)) \n",
    "    print(f\"term1 {term1.shape}\")\n",
    "    term2 = 2 * DE_j * jnp.cos(e_t) * jnp.cos(dq.to_jax(A))\n",
    "    print(f\"term2 {term1.shape}\")\n",
    "\n",
    "    scalar = term1 + term2\n",
    "    print(f\"scalar {scalar.shape}\")\n",
    "    #jax.debug.print(\"ATS scalar at t={}: {}\", t, scalar)  # JAX-safe debugging    \n",
    "    return scalar \n",
    "\n",
    "def d(t):\n",
    "    scalar = 2 * e_d * jnp.cos(w_d * t)\n",
    "    #jax.debug.print(\"d scalar at t={}: {}\", t, scalar)  # JAX-safe debugging\n",
    "    return scalar * (b + dq.dag(b))\n",
    "\n",
    "def o(t):\n",
    "    return identity\n",
    "#print(a.shape)\n",
    "#print(b.shape)\n",
    "\n",
    "def get_H(t):\n",
    "    H_0 = w_a0 * (dq.dag(a) @ a) + w_b0 * (dq.dag(b) @ b)\n",
    "    H_d = d(t)\n",
    "    H_ATS = ATS(t)\n",
    "    return H_0 + H_ATS + H_d\n",
    "\n",
    "#H_0 = w_a0 * (dq.dag(a) @ a) + w_b0 * (dq.dag(b) @ b)\n",
    "#H_0 = dq.modulated(o, (H_0))\n",
    "#print(H_0(1))\n",
    "#H_ATS = dq.modulated(ATS, dq.eye(1))\n",
    "#H_ATS = dq.modulated(ATS, (a + dq.dag(a)))\n",
    "\n",
    "#print(H_ATS(1))\n",
    "#H_d = dq.modulated(d, (b + dq.dag(b)))\n",
    "#H_d = dq.modulated(d, ())\n",
    "#print(f\"H_0 {H_0.shape}\")\n",
    "#print(f\"HATS {H_ATS.shape}\")\n",
    "#print(f\"H_d {H_d.shape}\")\n",
    "\n",
    "#H = H_0  + H_ATS + H_d #+ H_d.dag() + H_ATS.dag()\n",
    "H = dq.timecallable(get_H)\n",
    "#print(H(1))\n",
    "kappa_a = 9.3e-6\n",
    "kappa_b = 2.6e-3\n",
    "alpha = 2.0 # cat size\n",
    "beta = 1.0 \n",
    "two_photon_loss_a = jnp.sqrt(kappa_a) * (a @ a - alpha**2 * identity)\n",
    "two_photon_loss_b = jnp.sqrt(kappa_b) * (b @ b - beta**2 * identity)\n",
    "loss_ops = [jnp.sqrt(kappa_a) * a, jnp.sqrt(kappa_b) * b]\n",
    "loss_ops = [two_photon_loss_a, two_photon_loss_b]\n",
    "#print(f\"H {H.shape}\")\n",
    "#print(f\"psi0 {psi0.shape}\")\n",
    "#psi0 = np.reshape(psi0, (na,na))\n",
    "#print(f\"psi0 {psi0.shape}\")\n",
    "res = dq.mesolve(H, loss_ops, psi0, tsave, solver=dq.solver.Tsit5(max_steps=1000000))\n",
    "#print(res.states.shape)\n"
   ]
  },
  {
   "cell_type": "code",
   "execution_count": 88,
   "id": "bd7c6665-9be4-4783-a4e6-23048e776e25",
   "metadata": {},
   "outputs": [
    {
     "data": {
      "text/html": [
       "<img src=\"wigner_mode_a.gif\">"
      ],
      "text/plain": [
       "<IPython.core.display.HTML object>"
      ]
     },
     "metadata": {},
     "output_type": "display_data"
    }
   ],
   "source": [
    "import matplotlib.pyplot as plt\n",
    "import matplotlib.animation as animation\n",
    "from matplotlib.animation import PillowWriter\n",
    "from IPython.display import HTML, display\n",
    "from functools import reduce     # Import reduce to sum qarrays without starting with 0# ---------------------------\n",
    "# 6. Animate the Wigner function of mode a\n",
    "# ---------------------------\n",
    "fig_w, ax_w = plt.subplots(1, 1, figsize=(6, 6))\n",
    "\n",
    "def update(frame):\n",
    "    # Obtain the reduced state of mode a by tracing out mode b.\n",
    "    ax_w.cla()  # Clear the axis.\n",
    "    rho_a = dq.ptrace(res.states[frame], 0)\n",
    "    dq.plot.wigner(rho_a, ax=ax_w)\n",
    "    ax_w.set_title(f\"Mode a Wigner Function\\nTime = {tsave[frame]*1e8:.2f}\")\n",
    "\n",
    "ani = animation.FuncAnimation(fig_w, update, frames=len(tsave), repeat=False)\n",
    "gif_filename = 'wigner_mode_a.gif'\n",
    "ani.save(gif_filename, writer=PillowWriter(fps=len(tsave) / 4))\n",
    "plt.close(fig_w)\n",
    "display(HTML(f'<img src=\"{gif_filename}\">'))"
   ]
  },
  {
   "cell_type": "code",
   "execution_count": null,
   "id": "ee708bc9-0e7d-4dbb-8196-6aadb48d295a",
   "metadata": {},
   "outputs": [],
   "source": []
  }
 ],
 "metadata": {
  "kernelspec": {
   "display_name": "AliceAndBob",
   "language": "python",
   "name": "aliceandbob"
  },
  "language_info": {
   "codemirror_mode": {
    "name": "ipython",
    "version": 3
   },
   "file_extension": ".py",
   "mimetype": "text/x-python",
   "name": "python",
   "nbconvert_exporter": "python",
   "pygments_lexer": "ipython3",
   "version": "3.11.11"
  }
 },
 "nbformat": 4,
 "nbformat_minor": 5
}
