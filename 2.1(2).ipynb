{
 "cells": [
  {
   "cell_type": "code",
   "execution_count": 2,
   "id": "00d0502a-50d5-4904-a3a1-b6bab7ad41b2",
   "metadata": {
    "tags": []
   },
   "outputs": [],
   "source": [
    "import dynamiqs as dq\n",
    "import matplotlib.pyplot as plt\n",
    "import jax\n",
    "import jax.numpy as jnp\n",
    "import numpy as np "
   ]
  },
  {
   "cell_type": "code",
   "execution_count": 105,
   "id": "e5ea45f4-c511-49d7-a39b-cf92abcba844",
   "metadata": {
    "tags": []
   },
   "outputs": [
    {
     "name": "stderr",
     "output_type": "stream",
     "text": [
      "/local_scratch/slurm.1820260/ipykernel_1110836/4249743259.py:49: UserWarning: A sparse qarray has been converted to dense layout due to element-wise addition with a dense qarray.\n",
      "  return H_0 + H_ATS + H_d\n",
      "/home/najones/.local/lib/python3.11/site-packages/dynamiqs/qarrays/qarray.py:481: UserWarning: A sparse qarray has been converted to dense layout due to element-wise addition with a dense qarray.\n",
      "  return self.__add__(y)\n",
      "/local_scratch/slurm.1820260/ipykernel_1110836/4249743259.py:49: UserWarning: A sparse qarray has been converted to dense layout due to element-wise addition with a dense qarray.\n",
      "  return H_0 + H_ATS + H_d\n",
      "/home/najones/.local/lib/python3.11/site-packages/dynamiqs/qarrays/qarray.py:481: UserWarning: A sparse qarray has been converted to dense layout due to element-wise addition with a dense qarray.\n",
      "  return self.__add__(y)\n",
      "/local_scratch/slurm.1820260/ipykernel_1110836/4249743259.py:49: UserWarning: A sparse qarray has been converted to dense layout due to element-wise addition with a dense qarray.\n",
      "  return H_0 + H_ATS + H_d\n",
      "/home/najones/.local/lib/python3.11/site-packages/dynamiqs/qarrays/qarray.py:481: UserWarning: A sparse qarray has been converted to dense layout due to element-wise addition with a dense qarray.\n",
      "  return self.__add__(y)\n",
      "|██████████| 100.0% ◆ elapsed 291.02ms ◆ remaining 0.00ms  \n"
     ]
    }
   ],
   "source": [
    "na = 20 # Hilbert space dimension for memory mode\n",
    "nb = 5  # Hilbert space dimension for buffer mode\n",
    "\n",
    "#Annihilation operators\n",
    "a = dq.tensor(dq.destroy(na), dq.eye(nb))    \n",
    "b = dq.tensor(dq.eye(na), dq.destroy(nb)) \n",
    "\n",
    "#Identity matching [a,b] dimensions\n",
    "identity = dq.tensor(dq.eye(na), dq.eye(nb))\n",
    "\n",
    "# Both modes start in a vacuum \n",
    "psi0 = dq.tensor(dq.fock(na, 0), dq.fock(nb, 0))\n",
    "\n",
    "# Using A100, so double is supported\n",
    "dq.set_precision('double') \n",
    "\n",
    "# Define constants\n",
    "w_a0 = 5.26 \n",
    "w_b0 = 7.70  \n",
    "psi_a = 0.06\n",
    "psi_b = 0.29\n",
    "E_j = 42.76  \n",
    "DE_j = 0.47  \n",
    "w_d = 7.623  \n",
    "w_p = 2.891 \n",
    "e_d = -3.815e-3  # MHz to GHz\n",
    "e_p = 0.122  # rad\n",
    "kappa_a = 9.3e-6 # KHz to GHz\n",
    "kappa_b = 2.6e-3 # MHz to GHz\n",
    "\n",
    "tsave = jnp.linspace(0, 4, 100)\n",
    "\n",
    "def ATS(t):\n",
    "    e_t = e_p * jnp.cos(w_p * t)\n",
    "    A = psi_a * (a + a.dag()) + psi_b * (b + b.dag())\n",
    "    term1 = -2*E_j * jnp.sin(e_t) * jnp.sin(dq.to_jax(A)) \n",
    "    term2 = 2 * DE_j * jnp.cos(e_t) * jnp.cos(dq.to_jax(A))\n",
    "    ATS = term1 + term2\n",
    "    return ATS \n",
    "\n",
    "def d(t):\n",
    "    d = 2 * e_d * jnp.cos(w_d * t)\n",
    "    return d * (b + dq.dag(b))\n",
    "\n",
    "def get_H(t):\n",
    "    H_0 = w_a0 * (dq.dag(a) @ a) + w_b0 * (dq.dag(b) @ b)\n",
    "    H_d = d(t)\n",
    "    H_ATS = ATS(t)\n",
    "    return H_0 + H_ATS + H_d\n",
    "\n",
    "# H depends explicitly on t, so we need timecallable()\n",
    "H = dq.timecallable(get_H)\n",
    "\n",
    "#Typical 2-mode loss operator\n",
    "loss_ops = [jnp.sqrt(kappa_a) * a, jnp.sqrt(kappa_b) * b]\n",
    "\n",
    "res = dq.mesolve(H, loss_ops, psi0, tsave)\n",
    "\n"
   ]
  },
  {
   "cell_type": "code",
   "execution_count": 107,
   "id": "bd7c6665-9be4-4783-a4e6-23048e776e25",
   "metadata": {},
   "outputs": [
    {
     "data": {
      "text/html": [
       "<img src=\"wigner_mode_a.gif\">"
      ],
      "text/plain": [
       "<IPython.core.display.HTML object>"
      ]
     },
     "metadata": {},
     "output_type": "display_data"
    }
   ],
   "source": [
    "import matplotlib.pyplot as plt\n",
    "import matplotlib.animation as animation\n",
    "from matplotlib.animation import PillowWriter\n",
    "from IPython.display import HTML, display\n",
    "# 6. Animate the Wigner function of mode a\n",
    "# ---------------------------\n",
    "fig_w, ax_w = plt.subplots(1, 1, figsize=(6, 6))\n",
    "\n",
    "def update(frame):\n",
    "    # Obtain the reduced state of mode a by tracing out mode b.\n",
    "    ax_w.cla()  # Clear the axis.\n",
    "    rho_a = dq.ptrace(res.states[frame], 0)\n",
    "    dq.plot.wigner(rho_a, ax=ax_w)\n",
    "    ax_w.set_title(f\"Mode a Wigner Function\\nTime = {tsave[frame]:.2f}\")\n",
    "\n",
    "ani = animation.FuncAnimation(fig_w, update, frames=len(tsave), repeat=False)\n",
    "gif_filename = 'wigner_mode_a.gif'\n",
    "ani.save(gif_filename, writer=PillowWriter(fps=len(tsave) / 4))\n",
    "plt.close(fig_w)\n",
    "display(HTML(f'<img src=\"{gif_filename}\">'))"
   ]
  },
  {
   "cell_type": "code",
   "execution_count": null,
   "id": "ee708bc9-0e7d-4dbb-8196-6aadb48d295a",
   "metadata": {},
   "outputs": [],
   "source": []
  }
 ],
 "metadata": {
  "kernelspec": {
   "display_name": "AliceAndBob",
   "language": "python",
   "name": "aliceandbob"
  },
  "language_info": {
   "codemirror_mode": {
    "name": "ipython",
    "version": 3
   },
   "file_extension": ".py",
   "mimetype": "text/x-python",
   "name": "python",
   "nbconvert_exporter": "python",
   "pygments_lexer": "ipython3",
   "version": "3.11.11"
  }
 },
 "nbformat": 4,
 "nbformat_minor": 5
}
