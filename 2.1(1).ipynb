{
 "cells": [
  {
   "cell_type": "code",
   "execution_count": 2,
   "id": "00d0502a-50d5-4904-a3a1-b6bab7ad41b2",
   "metadata": {
    "tags": []
   },
   "outputs": [],
   "source": [
    "import dynamiqs as dq\n",
    "import matplotlib.pyplot as plt\n",
    "import jax\n",
    "import jax.numpy as jnp\n",
    "import numpy as np "
   ]
  },
  {
   "cell_type": "code",
   "execution_count": 96,
   "id": "e5ea45f4-c511-49d7-a39b-cf92abcba844",
   "metadata": {
    "tags": []
   },
   "outputs": [
    {
     "name": "stderr",
     "output_type": "stream",
     "text": [
      "/local_scratch/slurm.1820260/ipykernel_1110836/40305284.py:68: UserWarning: A sparse qarray has been converted to dense layout due to element-wise addition with a dense qarray.\n",
      "  return H_0 + H_ATS + H_d\n",
      "/home/najones/.local/lib/python3.11/site-packages/dynamiqs/qarrays/qarray.py:481: UserWarning: A sparse qarray has been converted to dense layout due to element-wise addition with a dense qarray.\n",
      "  return self.__add__(y)\n",
      "/local_scratch/slurm.1820260/ipykernel_1110836/40305284.py:68: UserWarning: A sparse qarray has been converted to dense layout due to element-wise addition with a dense qarray.\n",
      "  return H_0 + H_ATS + H_d\n",
      "/home/najones/.local/lib/python3.11/site-packages/dynamiqs/qarrays/qarray.py:481: UserWarning: A sparse qarray has been converted to dense layout due to element-wise addition with a dense qarray.\n",
      "  return self.__add__(y)\n",
      "/local_scratch/slurm.1820260/ipykernel_1110836/40305284.py:68: UserWarning: A sparse qarray has been converted to dense layout due to element-wise addition with a dense qarray.\n",
      "  return H_0 + H_ATS + H_d\n",
      "/home/najones/.local/lib/python3.11/site-packages/dynamiqs/qarrays/qarray.py:481: UserWarning: A sparse qarray has been converted to dense layout due to element-wise addition with a dense qarray.\n",
      "  return self.__add__(y)\n",
      "|██████████| 100.0% ◆ elapsed 290.73ms ◆ remaining 0.00ms  \n"
     ]
    }
   ],
   "source": [
    "na = 20 # Hilbert space dimension\n",
    "nb = 5\n",
    "#a, b = dq.destroy(na, nb) # annihilaiton operator\n",
    "a = dq.tensor(dq.destroy(na), dq.eye(nb))     # Mode a annihilation operator\n",
    "b = dq.tensor(dq.eye(na), dq.destroy(nb))\n",
    "identity = dq.tensor(dq.eye(na), dq.eye(nb))\n",
    "psi0 = dq.tensor(dq.fock(na, 0), dq.fock(nb, 0)) # initial state\n",
    "#psi0 = dq.tensor(dq.coherent(na, 0.0), dq.coherent(nb, 0.0)) # start in the vaccum\n",
    "dq.set_precision('double')  # 'simple' by default\n",
    "\n",
    "# Define constants\n",
    "pi2 = 2.0 * np.pi\n",
    "pi2 = 1\n",
    "w_a0 = 5.26 * pi2 # GHz to Hz\n",
    "w_b0 = 7.70 * pi2 # GHz to Hz\n",
    "psi_a = 0.06\n",
    "psi_b = 0.29\n",
    "E_j = 42.76  # GHz to Hz\n",
    "DE_j = 0.47  # GHz to Hz\n",
    "w_d = 7.623 * pi2 # GHz to Hz\n",
    "w_p = 2.891 * pi2  # GHz to Hz\n",
    "e_d = -3.815e-3 * pi2 # MHz to Hz\n",
    "e_p = 0.122  # rad\n",
    "\n",
    "\"\"\"\n",
    "w_a0 = 5.26e9 * 2 * jnp.pi \n",
    "w_b0 = 7.70e9 * 2 * jnp.pi\n",
    "psi_a = 0.06\n",
    "psi_b = 0.29\n",
    "E_j = 42.76e9 #where h? \n",
    "DE_j = 0.47e9 #where h?\n",
    "w_d = 7.623e9 * 2 * jnp.pi\n",
    "w_p = 2.891e9 * 2 * jnp.pi\n",
    "e_d = -3.815e6 * 2 * jnp.pi\n",
    "e_p = 0.122\n",
    "\"\"\"\n",
    "tsave = jnp.linspace(0, 4, 100)\n",
    "\n",
    "def ATS(t):\n",
    "    e_t = e_p * jnp.cos(w_p * t)\n",
    "    A = psi_a * (a + a.dag()) + psi_b * (b + b.dag())\n",
    "    #Attempted taylor expansion from tutorial 2\n",
    "    #term1 = (-2*E_j * e_t * psi_a * (a + a.dag())) - (2 * E_j * e_t * psi_b * (b + b.dag())) + ((1/3)* E_j * e_t * (A @ A @ A)) \\\n",
    "    term1 = -2*E_j * jnp.sin(e_t) * jnp.sin(dq.to_jax(A)) \n",
    "    #print(f\"term1 {term1.shape}\")\n",
    "    term2 = 2 * DE_j * jnp.cos(e_t) * jnp.cos(dq.to_jax(A))\n",
    "    #print(f\"term2 {term1.shape}\")\n",
    "\n",
    "    scalar = term1 + term2\n",
    "    #print(f\"scalar {scalar.shape}\")\n",
    "    #jax.debug.print(\"ATS scalar at t={}: {}\", t, scalar)  # JAX-safe debugging    \n",
    "    return scalar \n",
    "\n",
    "def d(t):\n",
    "    scalar = 2 * e_d * jnp.cos(w_d * t)\n",
    "    #jax.debug.print(\"d scalar at t={}: {}\", t, scalar)  # JAX-safe debugging\n",
    "    return scalar * (b + dq.dag(b))\n",
    "\n",
    "def o(t):\n",
    "    return identity\n",
    "#print(a.shape)\n",
    "#print(b.shape)\n",
    "\n",
    "def get_H(t):\n",
    "    H_0 = w_a0 * (dq.dag(a) @ a) + w_b0 * (dq.dag(b) @ b)\n",
    "    H_d = d(t)\n",
    "    H_ATS = ATS(t)\n",
    "    return H_0 + H_ATS + H_d\n",
    "\n",
    "#H_0 = w_a0 * (dq.dag(a) @ a) + w_b0 * (dq.dag(b) @ b)\n",
    "#H_0 = dq.modulated(o, (H_0))\n",
    "#print(H_0(1))\n",
    "#H_ATS = dq.modulated(ATS, dq.eye(1))\n",
    "#H_ATS = dq.modulated(ATS, (a + dq.dag(a)))\n",
    "\n",
    "#print(H_ATS(1))\n",
    "#H_d = dq.modulated(d, (b + dq.dag(b)))\n",
    "#H_d = dq.modulated(d, ())\n",
    "#print(f\"H_0 {H_0.shape}\")\n",
    "#print(f\"HATS {H_ATS.shape}\")\n",
    "#print(f\"H_d {H_d.shape}\")\n",
    "\n",
    "#H = H_0  + H_ATS + H_d #+ H_d.dag() + H_ATS.dag()\n",
    "H = dq.timecallable(get_H)\n",
    "#print(H(1))\n",
    "kappa_a = 9.3e-6\n",
    "kappa_b = 2.6e-3\n",
    "alpha = 2.0 # cat size\n",
    "beta = 1.0 \n",
    "two_photon_loss_a = jnp.sqrt(kappa_a) * (a @ a - alpha**2 * identity)\n",
    "two_photon_loss_b = jnp.sqrt(kappa_b) * (b @ b - beta**2 * identity)\n",
    "loss_ops = [jnp.sqrt(kappa_a) * a, jnp.sqrt(kappa_b) * b]\n",
    "#loss_ops = [two_photon_loss_a, two_photon_loss_b]\n",
    "#print(f\"H {H.shape}\")\n",
    "#print(f\"psi0 {psi0.shape}\")\n",
    "#psi0 = np.reshape(psi0, (na,na))\n",
    "#print(f\"psi0 {psi0.shape}\")\n",
    "res = dq.mesolve(H, loss_ops, psi0, tsave, solver=dq.solver.Tsit5(max_steps=1000000))\n",
    "#print(res.states.shape)\n"
   ]
  },
  {
   "cell_type": "code",
   "execution_count": 97,
   "id": "bd7c6665-9be4-4783-a4e6-23048e776e25",
   "metadata": {},
   "outputs": [
    {
     "data": {
      "text/html": [
       "<img src=\"wigner_mode_a.gif\">"
      ],
      "text/plain": [
       "<IPython.core.display.HTML object>"
      ]
     },
     "metadata": {},
     "output_type": "display_data"
    }
   ],
   "source": [
    "import matplotlib.pyplot as plt\n",
    "import matplotlib.animation as animation\n",
    "from matplotlib.animation import PillowWriter\n",
    "from IPython.display import HTML, display\n",
    "from functools import reduce     # Import reduce to sum qarrays without starting with 0# ---------------------------\n",
    "# 6. Animate the Wigner function of mode a\n",
    "# ---------------------------\n",
    "fig_w, ax_w = plt.subplots(1, 1, figsize=(6, 6))\n",
    "\n",
    "def update(frame):\n",
    "    # Obtain the reduced state of mode a by tracing out mode b.\n",
    "    ax_w.cla()  # Clear the axis.\n",
    "    rho_a = dq.ptrace(res.states[frame], 0)\n",
    "    dq.plot.wigner(rho_a, ax=ax_w)\n",
    "    ax_w.set_title(f\"Mode a Wigner Function\\nTime = {tsave[frame]:.2f}\")\n",
    "\n",
    "ani = animation.FuncAnimation(fig_w, update, frames=len(tsave), repeat=False)\n",
    "gif_filename = 'wigner_mode_a.gif'\n",
    "ani.save(gif_filename, writer=PillowWriter(fps=len(tsave) / 4))\n",
    "plt.close(fig_w)\n",
    "display(HTML(f'<img src=\"{gif_filename}\">'))"
   ]
  },
  {
   "cell_type": "code",
   "execution_count": null,
   "id": "ee708bc9-0e7d-4dbb-8196-6aadb48d295a",
   "metadata": {},
   "outputs": [],
   "source": []
  }
 ],
 "metadata": {
  "kernelspec": {
   "display_name": "AliceAndBob",
   "language": "python",
   "name": "aliceandbob"
  },
  "language_info": {
   "codemirror_mode": {
    "name": "ipython",
    "version": 3
   },
   "file_extension": ".py",
   "mimetype": "text/x-python",
   "name": "python",
   "nbconvert_exporter": "python",
   "pygments_lexer": "ipython3",
   "version": "3.11.11"
  }
 },
 "nbformat": 4,
 "nbformat_minor": 5
}
